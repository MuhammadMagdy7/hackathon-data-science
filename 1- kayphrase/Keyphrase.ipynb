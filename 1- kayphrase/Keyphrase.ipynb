{
  "cells": [
    {
      "cell_type": "code",
      "execution_count": 1,
      "id": "600df3ff",
      "metadata": {
        "colab": {
          "base_uri": "https://localhost:8080/"
        },
        "execution": {
          "iopub.execute_input": "2022-10-06T15:15:14.361172Z",
          "iopub.status.busy": "2022-10-06T15:15:14.360738Z",
          "iopub.status.idle": "2022-10-06T15:15:29.815181Z",
          "shell.execute_reply": "2022-10-06T15:15:29.813996Z",
          "shell.execute_reply.started": "2022-10-06T15:15:14.361095Z"
        },
        "id": "600df3ff",
        "outputId": "bc63d3e5-6ff0-400e-f18d-391bf7b4319d"
      },
      "outputs": [
        {
          "output_type": "stream",
          "name": "stdout",
          "text": [
            "Looking in indexes: https://pypi.org/simple, https://us-python.pkg.dev/colab-wheels/public/simple/\n",
            "Collecting git+https://github.com/boudinfl/pke.git\n",
            "  Cloning https://github.com/boudinfl/pke.git to /tmp/pip-req-build-fci4ead3\n",
            "  Running command git clone -q https://github.com/boudinfl/pke.git /tmp/pip-req-build-fci4ead3\n",
            "Requirement already satisfied: nltk in /usr/local/lib/python3.7/dist-packages (from pke==2.0.0) (3.7)\n",
            "Requirement already satisfied: networkx in /usr/local/lib/python3.7/dist-packages (from pke==2.0.0) (2.6.3)\n",
            "Requirement already satisfied: numpy in /usr/local/lib/python3.7/dist-packages (from pke==2.0.0) (1.21.6)\n",
            "Requirement already satisfied: scipy in /usr/local/lib/python3.7/dist-packages (from pke==2.0.0) (1.7.3)\n",
            "Collecting sklearn\n",
            "  Downloading sklearn-0.0.post1.tar.gz (3.6 kB)\n",
            "Collecting unidecode\n",
            "  Downloading Unidecode-1.3.6-py3-none-any.whl (235 kB)\n",
            "\u001b[K     |████████████████████████████████| 235 kB 4.6 MB/s \n",
            "\u001b[?25hRequirement already satisfied: future in /usr/local/lib/python3.7/dist-packages (from pke==2.0.0) (0.16.0)\n",
            "Requirement already satisfied: joblib in /usr/local/lib/python3.7/dist-packages (from pke==2.0.0) (1.2.0)\n",
            "Requirement already satisfied: spacy>=3.2.3 in /usr/local/lib/python3.7/dist-packages (from pke==2.0.0) (3.4.2)\n",
            "Requirement already satisfied: srsly<3.0.0,>=2.4.3 in /usr/local/lib/python3.7/dist-packages (from spacy>=3.2.3->pke==2.0.0) (2.4.5)\n",
            "Requirement already satisfied: spacy-loggers<2.0.0,>=1.0.0 in /usr/local/lib/python3.7/dist-packages (from spacy>=3.2.3->pke==2.0.0) (1.0.3)\n",
            "Requirement already satisfied: thinc<8.2.0,>=8.1.0 in /usr/local/lib/python3.7/dist-packages (from spacy>=3.2.3->pke==2.0.0) (8.1.5)\n",
            "Requirement already satisfied: murmurhash<1.1.0,>=0.28.0 in /usr/local/lib/python3.7/dist-packages (from spacy>=3.2.3->pke==2.0.0) (1.0.9)\n",
            "Requirement already satisfied: packaging>=20.0 in /usr/local/lib/python3.7/dist-packages (from spacy>=3.2.3->pke==2.0.0) (21.3)\n",
            "Requirement already satisfied: catalogue<2.1.0,>=2.0.6 in /usr/local/lib/python3.7/dist-packages (from spacy>=3.2.3->pke==2.0.0) (2.0.8)\n",
            "Requirement already satisfied: pathy>=0.3.5 in /usr/local/lib/python3.7/dist-packages (from spacy>=3.2.3->pke==2.0.0) (0.6.2)\n",
            "Requirement already satisfied: preshed<3.1.0,>=3.0.2 in /usr/local/lib/python3.7/dist-packages (from spacy>=3.2.3->pke==2.0.0) (3.0.8)\n",
            "Requirement already satisfied: tqdm<5.0.0,>=4.38.0 in /usr/local/lib/python3.7/dist-packages (from spacy>=3.2.3->pke==2.0.0) (4.64.1)\n",
            "Requirement already satisfied: pydantic!=1.8,!=1.8.1,<1.11.0,>=1.7.4 in /usr/local/lib/python3.7/dist-packages (from spacy>=3.2.3->pke==2.0.0) (1.10.2)\n",
            "Requirement already satisfied: typing-extensions<4.2.0,>=3.7.4 in /usr/local/lib/python3.7/dist-packages (from spacy>=3.2.3->pke==2.0.0) (4.1.1)\n",
            "Requirement already satisfied: requests<3.0.0,>=2.13.0 in /usr/local/lib/python3.7/dist-packages (from spacy>=3.2.3->pke==2.0.0) (2.23.0)\n",
            "Requirement already satisfied: wasabi<1.1.0,>=0.9.1 in /usr/local/lib/python3.7/dist-packages (from spacy>=3.2.3->pke==2.0.0) (0.10.1)\n",
            "Requirement already satisfied: setuptools in /usr/local/lib/python3.7/dist-packages (from spacy>=3.2.3->pke==2.0.0) (57.4.0)\n",
            "Requirement already satisfied: typer<0.5.0,>=0.3.0 in /usr/local/lib/python3.7/dist-packages (from spacy>=3.2.3->pke==2.0.0) (0.4.2)\n",
            "Requirement already satisfied: cymem<2.1.0,>=2.0.2 in /usr/local/lib/python3.7/dist-packages (from spacy>=3.2.3->pke==2.0.0) (2.0.7)\n",
            "Requirement already satisfied: langcodes<4.0.0,>=3.2.0 in /usr/local/lib/python3.7/dist-packages (from spacy>=3.2.3->pke==2.0.0) (3.3.0)\n",
            "Requirement already satisfied: spacy-legacy<3.1.0,>=3.0.10 in /usr/local/lib/python3.7/dist-packages (from spacy>=3.2.3->pke==2.0.0) (3.0.10)\n",
            "Requirement already satisfied: jinja2 in /usr/local/lib/python3.7/dist-packages (from spacy>=3.2.3->pke==2.0.0) (2.11.3)\n",
            "Requirement already satisfied: zipp>=0.5 in /usr/local/lib/python3.7/dist-packages (from catalogue<2.1.0,>=2.0.6->spacy>=3.2.3->pke==2.0.0) (3.10.0)\n",
            "Requirement already satisfied: pyparsing!=3.0.5,>=2.0.2 in /usr/local/lib/python3.7/dist-packages (from packaging>=20.0->spacy>=3.2.3->pke==2.0.0) (3.0.9)\n",
            "Requirement already satisfied: smart-open<6.0.0,>=5.2.1 in /usr/local/lib/python3.7/dist-packages (from pathy>=0.3.5->spacy>=3.2.3->pke==2.0.0) (5.2.1)\n",
            "Requirement already satisfied: chardet<4,>=3.0.2 in /usr/local/lib/python3.7/dist-packages (from requests<3.0.0,>=2.13.0->spacy>=3.2.3->pke==2.0.0) (3.0.4)\n",
            "Requirement already satisfied: urllib3!=1.25.0,!=1.25.1,<1.26,>=1.21.1 in /usr/local/lib/python3.7/dist-packages (from requests<3.0.0,>=2.13.0->spacy>=3.2.3->pke==2.0.0) (1.24.3)\n",
            "Requirement already satisfied: idna<3,>=2.5 in /usr/local/lib/python3.7/dist-packages (from requests<3.0.0,>=2.13.0->spacy>=3.2.3->pke==2.0.0) (2.10)\n",
            "Requirement already satisfied: certifi>=2017.4.17 in /usr/local/lib/python3.7/dist-packages (from requests<3.0.0,>=2.13.0->spacy>=3.2.3->pke==2.0.0) (2022.9.24)\n",
            "Requirement already satisfied: blis<0.8.0,>=0.7.8 in /usr/local/lib/python3.7/dist-packages (from thinc<8.2.0,>=8.1.0->spacy>=3.2.3->pke==2.0.0) (0.7.9)\n",
            "Requirement already satisfied: confection<1.0.0,>=0.0.1 in /usr/local/lib/python3.7/dist-packages (from thinc<8.2.0,>=8.1.0->spacy>=3.2.3->pke==2.0.0) (0.0.3)\n",
            "Requirement already satisfied: click<9.0.0,>=7.1.1 in /usr/local/lib/python3.7/dist-packages (from typer<0.5.0,>=0.3.0->spacy>=3.2.3->pke==2.0.0) (7.1.2)\n",
            "Requirement already satisfied: MarkupSafe>=0.23 in /usr/local/lib/python3.7/dist-packages (from jinja2->spacy>=3.2.3->pke==2.0.0) (2.0.1)\n",
            "Requirement already satisfied: regex>=2021.8.3 in /usr/local/lib/python3.7/dist-packages (from nltk->pke==2.0.0) (2022.6.2)\n",
            "Building wheels for collected packages: pke, sklearn\n",
            "  Building wheel for pke (setup.py) ... \u001b[?25l\u001b[?25hdone\n",
            "  Created wheel for pke: filename=pke-2.0.0-py3-none-any.whl size=6160277 sha256=72cde2b85cec97fcbaf248240a38e8479030377095f3f9de2d5f049115e1131a\n",
            "  Stored in directory: /tmp/pip-ephem-wheel-cache-9l2w90yk/wheels/fa/b3/09/612ee93bf3ee4164bcd5783e742942cdfc892a86039d3e0a33\n",
            "  Building wheel for sklearn (setup.py) ... \u001b[?25l\u001b[?25hdone\n",
            "  Created wheel for sklearn: filename=sklearn-0.0.post1-py3-none-any.whl size=2344 sha256=eded0850ec56bacdcafef5c7ff52a6509de247b07ee7f7004343e14bdc23a433\n",
            "  Stored in directory: /root/.cache/pip/wheels/42/56/cc/4a8bf86613aafd5b7f1b310477667c1fca5c51c3ae4124a003\n",
            "Successfully built pke sklearn\n",
            "Installing collected packages: unidecode, sklearn, pke\n",
            "Successfully installed pke-2.0.0 sklearn-0.0.post1 unidecode-1.3.6\n"
          ]
        }
      ],
      "source": [
        "!pip install git+https://github.com/boudinfl/pke.git"
      ]
    },
    {
      "cell_type": "code",
      "execution_count": 2,
      "id": "93b43ab3",
      "metadata": {
        "colab": {
          "base_uri": "https://localhost:8080/"
        },
        "execution": {
          "iopub.execute_input": "2022-10-06T15:15:29.817763Z",
          "iopub.status.busy": "2022-10-06T15:15:29.816900Z",
          "iopub.status.idle": "2022-10-06T15:15:32.985906Z",
          "shell.execute_reply": "2022-10-06T15:15:32.984956Z",
          "shell.execute_reply.started": "2022-10-06T15:15:29.817724Z"
        },
        "id": "93b43ab3",
        "outputId": "24516bf0-23c7-4a7f-8a9f-7895be81fe41"
      },
      "outputs": [
        {
          "output_type": "stream",
          "name": "stdout",
          "text": [
            "Looking in indexes: https://pypi.org/simple, https://us-python.pkg.dev/colab-wheels/public/simple/\n",
            "Collecting wikipedia\n",
            "  Downloading wikipedia-1.4.0.tar.gz (27 kB)\n",
            "Requirement already satisfied: beautifulsoup4 in /usr/local/lib/python3.7/dist-packages (from wikipedia) (4.6.3)\n",
            "Requirement already satisfied: requests<3.0.0,>=2.0.0 in /usr/local/lib/python3.7/dist-packages (from wikipedia) (2.23.0)\n",
            "Requirement already satisfied: urllib3!=1.25.0,!=1.25.1,<1.26,>=1.21.1 in /usr/local/lib/python3.7/dist-packages (from requests<3.0.0,>=2.0.0->wikipedia) (1.24.3)\n",
            "Requirement already satisfied: idna<3,>=2.5 in /usr/local/lib/python3.7/dist-packages (from requests<3.0.0,>=2.0.0->wikipedia) (2.10)\n",
            "Requirement already satisfied: certifi>=2017.4.17 in /usr/local/lib/python3.7/dist-packages (from requests<3.0.0,>=2.0.0->wikipedia) (2022.9.24)\n",
            "Requirement already satisfied: chardet<4,>=3.0.2 in /usr/local/lib/python3.7/dist-packages (from requests<3.0.0,>=2.0.0->wikipedia) (3.0.4)\n",
            "Building wheels for collected packages: wikipedia\n",
            "  Building wheel for wikipedia (setup.py) ... \u001b[?25l\u001b[?25hdone\n",
            "  Created wheel for wikipedia: filename=wikipedia-1.4.0-py3-none-any.whl size=11696 sha256=2056cefbb82c94876d543cdb576e5472cf689d8aa44105fb364acdfd1f949f23\n",
            "  Stored in directory: /root/.cache/pip/wheels/15/93/6d/5b2c68b8a64c7a7a04947b4ed6d89fb557dcc6bc27d1d7f3ba\n",
            "Successfully built wikipedia\n",
            "Installing collected packages: wikipedia\n",
            "Successfully installed wikipedia-1.4.0\n"
          ]
        }
      ],
      "source": [
        "!pip install wikipedia"
      ]
    },
    {
      "cell_type": "code",
      "execution_count": 3,
      "id": "GOZj_5mmATkn",
      "metadata": {
        "colab": {
          "base_uri": "https://localhost:8080/"
        },
        "id": "GOZj_5mmATkn",
        "outputId": "dc635b14-c51e-45ba-beeb-a9287d96652d"
      },
      "outputs": [
        {
          "output_type": "stream",
          "name": "stdout",
          "text": [
            "Looking in indexes: https://pypi.org/simple, https://us-python.pkg.dev/colab-wheels/public/simple/\n",
            "Collecting flashtext\n",
            "  Downloading flashtext-2.7.tar.gz (14 kB)\n",
            "Building wheels for collected packages: flashtext\n",
            "  Building wheel for flashtext (setup.py) ... \u001b[?25l\u001b[?25hdone\n",
            "  Created wheel for flashtext: filename=flashtext-2.7-py2.py3-none-any.whl size=9309 sha256=607172196cfaf190a2f3fbd526953030273a8c6371f765d1594a0dd60fbe8a36\n",
            "  Stored in directory: /root/.cache/pip/wheels/cb/19/58/4e8fdd0009a7f89dbce3c18fff2e0d0fa201d5cdfd16f113b7\n",
            "Successfully built flashtext\n",
            "Installing collected packages: flashtext\n",
            "Successfully installed flashtext-2.7\n"
          ]
        }
      ],
      "source": [
        "!pip install flashtext"
      ]
    },
    {
      "cell_type": "code",
      "execution_count": 4,
      "id": "8f74a783",
      "metadata": {
        "execution": {
          "iopub.execute_input": "2022-10-06T15:15:39.972434Z",
          "iopub.status.busy": "2022-10-06T15:15:39.970140Z",
          "iopub.status.idle": "2022-10-06T15:15:39.981642Z",
          "shell.execute_reply": "2022-10-06T15:15:39.980754Z",
          "shell.execute_reply.started": "2022-10-06T15:15:39.972390Z"
        },
        "id": "8f74a783"
      },
      "outputs": [],
      "source": [
        "# with open('Skill_BOK.txt','r',  encoding='utf-16') as f:\n",
        "#     lines = f.read()\n",
        "#     f.close()"
      ]
    },
    {
      "cell_type": "code",
      "execution_count": 4,
      "id": "fbfbb441",
      "metadata": {
        "execution": {
          "iopub.execute_input": "2022-10-06T15:19:41.571771Z",
          "iopub.status.busy": "2022-10-06T15:19:41.571390Z",
          "iopub.status.idle": "2022-10-06T15:19:41.580995Z",
          "shell.execute_reply": "2022-10-06T15:19:41.580368Z",
          "shell.execute_reply.started": "2022-10-06T15:19:41.571744Z"
        },
        "id": "fbfbb441",
        "tags": []
      },
      "outputs": [],
      "source": [
        "import re\n",
        "def processing_words(data):\n",
        "\n",
        "  arabic_words = re.findall('[\\u0600-\\u06ff]+', data)\n",
        "\n",
        "  for txt in arabic_words:\n",
        "    data = data.replace(f'{txt}', '')\n",
        "\n",
        "  data = data.replace('\\n', ' ')\n",
        "  data = re.sub('[\\(0-9,*\\)]', '', data)\n",
        "  data = re.sub(r'[0-9]', '', data)\n",
        "  data = re.sub(r'\\[[0-9]*\\]', '', data)\n",
        "  data = re.sub('==+', ' ', data)\n",
        "  data = re.sub('___+', ' ', data)\n",
        "  data = re.sub('\\ \\#', ' ', data)\n",
        "  data = re.sub('\\/', '', data)\n",
        "  data = data.replace('.%', ' ')\n",
        "  data = re.sub('//+', '', data)\n",
        "  data = re.sub('.%', '', data)\n",
        "  data = re.sub('-', '', data)\n",
        "  data = re.sub('\\$', \"\",data)\n",
        "  data = re.sub('\\;', \"\",data)\n",
        "  data = re.sub('\"\"+', '', data)\n",
        "  data = re.sub('[_a-zA-Z0-9]*@[a-z]*.[a-z]*', '', data)\n",
        "  data = re.sub('[\\{*\\}*]', ' ', data)\n",
        "  data = re.sub('[\\(*\\)*]', ' ', data)\n",
        "  data = re.sub('[\\[*\\]*]', ' ', data)\n",
        "  data = re.sub('[\\\"*\\\"*]', ' ', data)\n",
        "  data = re.sub('[\\“*\\“*]', ' ', data)\n",
        "  data = re.sub('\\.\\.+', '', data)\n",
        "  data = re.sub(' +', ' ', data)\n",
        "  data = data.replace(\"\\'\", \"\")\n",
        "\n",
        "\n",
        "\n",
        "  arabic_words1 = re.findall('[\\u0600-\\u06ff]+', data)\n",
        "  for txt in arabic_words1:\n",
        "    data = data.replace(f'{txt}', '')\n",
        "  # data = re.sub('.+', ' ', data)\n",
        "  \n",
        "  return data"
      ]
    },
    {
      "cell_type": "code",
      "execution_count": 6,
      "id": "0a50ff71-a32b-4486-950b-6e13f26c8cd9",
      "metadata": {
        "execution": {
          "iopub.execute_input": "2022-10-06T15:18:56.453644Z",
          "iopub.status.busy": "2022-10-06T15:18:56.453291Z",
          "iopub.status.idle": "2022-10-06T15:18:56.466161Z",
          "shell.execute_reply": "2022-10-06T15:18:56.465482Z",
          "shell.execute_reply.started": "2022-10-06T15:18:56.453619Z"
        },
        "id": "0a50ff71-a32b-4486-950b-6e13f26c8cd9",
        "tags": []
      },
      "outputs": [],
      "source": [
        "# lines = processing_words(lines)"
      ]
    },
    {
      "cell_type": "code",
      "execution_count": 5,
      "id": "2b9f7f6c",
      "metadata": {
        "execution": {
          "iopub.execute_input": "2022-10-06T15:18:59.597889Z",
          "iopub.status.busy": "2022-10-06T15:18:59.597396Z",
          "iopub.status.idle": "2022-10-06T15:19:01.359271Z",
          "shell.execute_reply": "2022-10-06T15:19:01.358661Z",
          "shell.execute_reply.started": "2022-10-06T15:18:59.597861Z"
        },
        "id": "2b9f7f6c"
      },
      "outputs": [],
      "source": [
        "# importing the module\n",
        "import wikipedia\n",
        " \n",
        "text = wikipedia.page(\"Data analysis\")\n",
        "text = text.content"
      ]
    },
    {
      "cell_type": "code",
      "execution_count": 8,
      "id": "fc4bf90d",
      "metadata": {
        "execution": {
          "iopub.execute_input": "2022-10-06T15:19:47.951271Z",
          "iopub.status.busy": "2022-10-06T15:19:47.950430Z",
          "iopub.status.idle": "2022-10-06T15:19:47.975097Z",
          "shell.execute_reply": "2022-10-06T15:19:47.974537Z",
          "shell.execute_reply.started": "2022-10-06T15:19:47.951230Z"
        },
        "id": "fc4bf90d",
        "tags": []
      },
      "outputs": [],
      "source": [
        "text = processing_words(text)"
      ]
    },
    {
      "cell_type": "markdown",
      "id": "0078ef96-2673-4dd0-b721-25d10279f2a9",
      "metadata": {
        "execution": {
          "iopub.execute_input": "2022-10-06T15:21:55.057774Z",
          "iopub.status.busy": "2022-10-06T15:21:55.057417Z",
          "iopub.status.idle": "2022-10-06T15:21:55.060720Z",
          "shell.execute_reply": "2022-10-06T15:21:55.059988Z",
          "shell.execute_reply.started": "2022-10-06T15:21:55.057747Z"
        },
        "id": "0078ef96-2673-4dd0-b721-25d10279f2a9"
      },
      "source": [
        "## Statistical_models"
      ]
    },
    {
      "cell_type": "code",
      "execution_count": 6,
      "id": "b7f23624",
      "metadata": {
        "execution": {
          "iopub.execute_input": "2022-10-06T15:15:32.987659Z",
          "iopub.status.busy": "2022-10-06T15:15:32.987306Z",
          "iopub.status.idle": "2022-10-06T15:15:37.656260Z",
          "shell.execute_reply": "2022-10-06T15:15:37.655642Z",
          "shell.execute_reply.started": "2022-10-06T15:15:32.987626Z"
        },
        "id": "b7f23624"
      },
      "outputs": [],
      "source": [
        "import pke"
      ]
    },
    {
      "cell_type": "code",
      "execution_count": 7,
      "id": "57ba9ca7-c2a3-4244-bda8-766f926d780d",
      "metadata": {
        "execution": {
          "iopub.execute_input": "2022-10-06T15:28:21.363165Z",
          "iopub.status.busy": "2022-10-06T15:28:21.362772Z",
          "iopub.status.idle": "2022-10-06T15:28:21.366378Z",
          "shell.execute_reply": "2022-10-06T15:28:21.365713Z",
          "shell.execute_reply.started": "2022-10-06T15:28:21.363137Z"
        },
        "id": "57ba9ca7-c2a3-4244-bda8-766f926d780d"
      },
      "outputs": [],
      "source": [
        "words = []"
      ]
    },
    {
      "cell_type": "code",
      "execution_count": 8,
      "id": "6d23e66d-7ff3-4c76-bd6d-abc1fd9f6da1",
      "metadata": {
        "execution": {
          "iopub.execute_input": "2022-10-06T15:28:21.942229Z",
          "iopub.status.busy": "2022-10-06T15:28:21.941724Z",
          "iopub.status.idle": "2022-10-06T15:28:21.947823Z",
          "shell.execute_reply": "2022-10-06T15:28:21.947148Z",
          "shell.execute_reply.started": "2022-10-06T15:28:21.942191Z"
        },
        "id": "6d23e66d-7ff3-4c76-bd6d-abc1fd9f6da1"
      },
      "outputs": [],
      "source": [
        "Statistical_models = { 'First Phrases' : pke.unsupervised.FirstPhrases(),\n",
        "                      'TfIdf':pke.unsupervised.TfIdf() ,\n",
        "                      'KPMiner': pke.unsupervised.KPMiner(),\n",
        "                      'YAKE':pke.unsupervised.YAKE()\n",
        "                      }"
      ]
    },
    {
      "cell_type": "code",
      "execution_count": 9,
      "id": "2d8741de-8f0e-4ede-ae41-ff914696b7c6",
      "metadata": {
        "colab": {
          "base_uri": "https://localhost:8080/"
        },
        "execution": {
          "iopub.execute_input": "2022-10-06T15:28:45.777372Z",
          "iopub.status.busy": "2022-10-06T15:28:45.777012Z",
          "iopub.status.idle": "2022-10-06T15:28:45.934636Z",
          "shell.execute_reply": "2022-10-06T15:28:45.933613Z",
          "shell.execute_reply.started": "2022-10-06T15:28:45.777345Z"
        },
        "id": "2d8741de-8f0e-4ede-ae41-ff914696b7c6",
        "outputId": "e0604543-02a8-425f-fcc6-c57dccb2cc78",
        "tags": []
      },
      "outputs": [
        {
          "output_type": "stream",
          "name": "stdout",
          "text": [
            "This modle: First Phrases\n"
          ]
        },
        {
          "output_type": "stream",
          "name": "stderr",
          "text": [
            "/usr/local/lib/python3.7/dist-packages/spacy/language.py:1899: UserWarning: [W123] Argument disable with value ['ner', 'textcat', 'parser'] is used instead of ['senter'] as specified in the config. Be aware that this might affect other components in your pipeline.\n",
            "  config_value=config[\"nlp\"][key],\n"
          ]
        },
        {
          "output_type": "stream",
          "name": "stdout",
          "text": [
            "('data analysis', 0)\n",
            "('process', -5)\n",
            "('inspecting', -7)\n",
            "('cleansing', -9)\n",
            "('transforming', -11)\n",
            "('data', -15)\n",
            "('goal', -18)\n",
            "('useful information', -21)\n",
            "('conclusions', -25)\n",
            "('decision-making', -29)\n",
            "('multiple facets', -34)\n",
            "('approaches', -37)\n",
            "('diverse techniques', -40)\n",
            "('variety', -44)\n",
            "('names', -46)\n",
            "This modle: TfIdf\n"
          ]
        },
        {
          "output_type": "stream",
          "name": "stderr",
          "text": [
            "WARNING:root:LoadFile._df_counts is hard coded to /usr/local/lib/python3.7/dist-packages/pke/models/df-semeval2010.tsv.gz\n"
          ]
        },
        {
          "output_type": "stream",
          "name": "stdout",
          "text": [
            "('data analysis', 264.17536359076166)\n",
            "('analysts', 106.30398519658179)\n",
            "('analysis phase', 100.51872726020909)\n",
            "('initial data analysis', 78.97899999016428)\n",
            "('data', 75.4821021204398)\n",
            "('exploratory', 74.15890908017921)\n",
            "('analysis', 71.76403123757314)\n",
            "('confirmatory', 64.6191818101344)\n",
            "('isbn', 61.799090900149345)\n",
            "('initial data', 61.544412482231564)\n",
            "('charts', 50.544412482231564)\n",
            "('data analysis phase', 50.259363630104545)\n",
            "('main analysis', 50.259363630104545)\n",
            "('main analysis phase', 50.259363630104545)\n",
            "('bar charts', 43.07945454008961)\n",
            "This modle: KPMiner\n"
          ]
        },
        {
          "output_type": "stream",
          "name": "stderr",
          "text": [
            "WARNING:root:LoadFile._df_counts is hard coded to /usr/local/lib/python3.7/dist-packages/pke/models/df-semeval2010.tsv.gz\n"
          ]
        },
        {
          "output_type": "stream",
          "name": "stdout",
          "text": [
            "('data analysis', 1098.526090772285)\n",
            "('data mining', 107.69863635022402)\n",
            "('data visualization', 107.69863635022402)\n",
            "('descriptive statistics', 86.15890908017921)\n",
            "('exploratory data', 86.15890908017921)\n",
            "('exploratory data analysis', 86.15890908017921)\n",
            "('analyzing data', 86.15890908017921)\n",
            "('data', 75.4821021204398)\n",
            "('exploratory', 74.15890908017921)\n",
            "('analysis', 71.76403123757314)\n",
            "('statistical modeling', 64.6191818101344)\n",
            "('business intelligence', 64.6191818101344)\n",
            "('confirmatory', 64.6191818101344)\n",
            "('phases', 40.19968177145244)\n",
            "('analytics', 35.18377891885619)\n",
            "This modle: YAKE\n",
            "('data analysis', 0.0008912933403118557)\n",
            "('data', 0.0011269627359046226)\n",
            "('analysis', 0.002062723635399145)\n",
            "('initial data analysis', 0.0027363683557246592)\n",
            "('data analysis phase', 0.0055825727839621244)\n",
            "('exploratory data analysis', 0.007090732127649999)\n",
            "('initial data', 0.01024921717932541)\n",
            "('analysis phase', 0.012896476034652632)\n",
            "('data analysis contests', 0.01985687471423726)\n",
            "('international data analysis', 0.020823042697243797)\n",
            "('main analysis', 0.023185062159957255)\n",
            "('exploratory data', 0.026705679583546048)\n",
            "('data cleaning', 0.026748109702521648)\n",
            "('data analysis framework', 0.027100117953870993)\n",
            "('variables', 0.027584991208897285)\n"
          ]
        }
      ],
      "source": [
        "for k, v in Statistical_models.items():\n",
        "  print(f'This modle: {k}')\n",
        "  extractor = v\n",
        "\n",
        "  # load the content of the document, here document is expected to be a simple \n",
        "  # test string and preprocessing is carried out using spacy\n",
        "  extractor.load_document(input= text)\n",
        "\n",
        "  # keyphrase candidate selection, in the case of TopicRank: sequences of nouns\n",
        "  # and adjectives (i.e. `(Noun|Adj)*`)\n",
        "  extractor.candidate_selection()\n",
        "\n",
        "  # candidate weighting, in the case of TopicRank: using a random walk algorithm\n",
        "  extractor.candidate_weighting()\n",
        "\n",
        "  # N-best selection, keyphrases contains the 10 highest scored candidates as\n",
        "  # (keyphrase, score) tuples\n",
        "  keyphrases = extractor.get_n_best(n=15)\n",
        "\n",
        "\n",
        "  for word in keyphrases:\n",
        "    print(word)\n",
        "\n",
        "    words.append(word[0])"
      ]
    },
    {
      "cell_type": "markdown",
      "id": "43b0b265-42cd-4ae0-b03b-b72d2882c59e",
      "metadata": {
        "id": "43b0b265-42cd-4ae0-b03b-b72d2882c59e"
      },
      "source": [
        "## Graph based models"
      ]
    },
    {
      "cell_type": "code",
      "execution_count": 10,
      "id": "777da13e-7485-4c28-ab99-6755d60bb8d3",
      "metadata": {
        "id": "777da13e-7485-4c28-ab99-6755d60bb8d3",
        "tags": []
      },
      "outputs": [],
      "source": [
        "Graph_based_models = { \n",
        "                      'Topic Rank': pke.unsupervised.TopicRank(),\n",
        "                      'Position Rank': pke.unsupervised.PositionRank(),\n",
        "                      'Multipar tite Rank': pke.unsupervised.MultipartiteRank(),\n",
        "                      \n",
        "                      }"
      ]
    },
    {
      "cell_type": "code",
      "execution_count": 11,
      "id": "212c1361-3f2e-4ce2-be23-36dd83ececc8",
      "metadata": {
        "colab": {
          "base_uri": "https://localhost:8080/"
        },
        "id": "212c1361-3f2e-4ce2-be23-36dd83ececc8",
        "outputId": "7e1f5a7c-03f8-4552-f27b-5ec3e69cee75"
      },
      "outputs": [
        {
          "output_type": "stream",
          "name": "stdout",
          "text": [
            "This modle: Topic Rank\n",
            "('data', 0.054858226490755085)\n",
            "('data analysis', 0.026418516612700213)\n",
            "('analysis', 0.021820089757401764)\n",
            "('specific variables', 0.015571392218358647)\n",
            "('analysts', 0.011703664660088037)\n",
            "('statistical modeling', 0.010379854862373663)\n",
            "('numbers', 0.009239610047795053)\n",
            "('example', 0.008654520356622895)\n",
            "('diverse techniques', 0.007638243509304185)\n",
            "('comparison', 0.007311415661034378)\n",
            "('charts', 0.006923180290959454)\n",
            "('phases', 0.006852769135774858)\n",
            "('measure', 0.006715286297655809)\n",
            "('statistical', 0.006664088290306911)\n",
            "('isbn', 0.006575119897324129)\n",
            "This modle: Position Rank\n",
            "('data analysis =', 0.2120035541813266)\n",
            "('statistical data analysis', 0.19062699980693976)\n",
            "('data analysis process', 0.189608887548936)\n",
            "('initial data analysis', 0.18441435749628826)\n",
            "('exploratory data analysis', 0.18326332972622594)\n",
            "('confirmatory data analysis', 0.18241043585909716)\n",
            "('nonlinear data analysis', 0.18123190096974806)\n",
            "('data analysis contests', 0.18061128960792658)\n",
            "('python data analysis', 0.1800262518122769)\n",
            "('pragmatic data analysis', 0.1790310998619701)\n",
            "('data analysis', 0.178457119667694)\n",
            "('data processing =', 0.15429690296778736)\n",
            "('quantitative data =', 0.14699023848043938)\n",
            "('data sample =', 0.14548862023888304)\n",
            "('data =', 0.14314513508654536)\n",
            "This modle: Multipar tite Rank\n",
            "('data', 0.04752367717812239)\n",
            "('data analysis', 0.037308002171238044)\n",
            "('analysis', 0.016004815344525053)\n",
            "('specific variables', 0.01126557432941257)\n",
            "('statistical modeling', 0.009261723167845688)\n",
            "('analysts', 0.008463116131461309)\n",
            "('numbers', 0.007161340384607513)\n",
            "('diverse techniques', 0.006767545967721598)\n",
            "('variety', 0.006295795243665151)\n",
            "('business world', 0.006216091005514491)\n",
            "('example', 0.005939009966050068)\n",
            "('modeling', 0.00559183570397067)\n",
            "('phases', 0.0055757539742189695)\n",
            "('comparison', 0.005544587501245107)\n",
            "('charts', 0.005533048869844812)\n"
          ]
        }
      ],
      "source": [
        "for k, v in Graph_based_models.items():\n",
        "  print(f'This modle: {k}')\n",
        "  extractor = v\n",
        "\n",
        "  # load the content of the document, here document is expected to be a simple \n",
        "  # test string and preprocessing is carried out using spacy\n",
        "  extractor.load_document(input= text)\n",
        "\n",
        "  # keyphrase candidate selection, in the case of TopicRank: sequences of nouns\n",
        "  # and adjectives (i.e. `(Noun|Adj)*`)\n",
        "  extractor.candidate_selection()\n",
        "\n",
        "  # candidate weighting, in the case of TopicRank: using a random walk algorithm\n",
        "  extractor.candidate_weighting()\n",
        "\n",
        "  # N-best selection, keyphrases contains the 10 highest scored candidates as\n",
        "  # (keyphrase, score) tuples\n",
        "  keyphrases = extractor.get_n_best(n=15)\n",
        "\n",
        "  for word in keyphrases:\n",
        "    print(word)\n",
        "    words.append(word[0])"
      ]
    },
    {
      "cell_type": "markdown",
      "id": "9c8e0cd4-776f-4b21-93af-c785eede89e0",
      "metadata": {
        "id": "9c8e0cd4-776f-4b21-93af-c785eede89e0"
      },
      "source": [
        "## Supervised"
      ]
    },
    {
      "cell_type": "code",
      "execution_count": 12,
      "id": "3aa2c34a-01f6-49a9-8a69-aa29522d4ca0",
      "metadata": {
        "colab": {
          "base_uri": "https://localhost:8080/"
        },
        "id": "3aa2c34a-01f6-49a9-8a69-aa29522d4ca0",
        "outputId": "2643d1cb-a484-4869-8c8a-9417adbfd7f3"
      },
      "outputs": [
        {
          "output_type": "stream",
          "name": "stderr",
          "text": [
            "WARNING:root:LoadFile._df_counts is hard coded to /usr/local/lib/python3.7/dist-packages/pke/models/df-semeval2010.tsv.gz\n"
          ]
        },
        {
          "output_type": "stream",
          "name": "stdout",
          "text": [
            "('data analysis', 0.050002973210251205)\n",
            "('analysts', 0.011529743072818666)\n",
            "('data', 0.009447911019403385)\n",
            "('exploratory', 0.009157085906228912)\n",
            "('analysis', 0.00913680744750199)\n",
            "('confirmatory', 0.008396547816098316)\n",
            "('analysis phase', 0.007217246604690953)\n",
            "('phases', 0.006531389135230911)\n",
            "('analytics', 0.006421031887412462)\n",
            "('statistical', 0.006251108724971691)\n",
            "('charts', 0.006193265728289089)\n",
            "('data visualization', 0.00612186537722407)\n",
            "('exploratory data', 0.006087847922564034)\n",
            "('exploratory data analysis', 0.006087847922564034)\n",
            "('data cleaning', 0.00602695185425957)\n"
          ]
        },
        {
          "output_type": "stream",
          "name": "stderr",
          "text": [
            "/usr/local/lib/python3.7/dist-packages/sklearn/base.py:338: UserWarning: Trying to unpickle estimator MultinomialNB from version 0.20.0 when using version 1.0.2. This might lead to breaking code or invalid results. Use at your own risk. For more info please refer to:\n",
            "https://scikit-learn.org/stable/modules/model_persistence.html#security-maintainability-limitations\n",
            "  UserWarning,\n"
          ]
        }
      ],
      "source": [
        "extractor = pke.supervised.Kea()\n",
        "\n",
        "# load the content of the document, here document is expected to be a simple \n",
        "# test string and preprocessing is carried out using spacy\n",
        "extractor.load_document(input= text)\n",
        "\n",
        "# keyphrase candidate selection, in the case of TopicRank: sequences of nouns\n",
        "# and adjectives (i.e. `(Noun|Adj)*`)\n",
        "extractor.candidate_selection()\n",
        "\n",
        "# candidate weighting, in the case of TopicRank: using a random walk algorithm\n",
        "extractor.candidate_weighting()\n",
        "\n",
        "# N-best selection, keyphrases contains the 10 highest scored candidates as\n",
        "# (keyphrase, score) tuples\n",
        "keyphrases = extractor.get_n_best(n=15)\n",
        "\n",
        "\n",
        "for word in keyphrases:\n",
        "  print(word)\n",
        "  words.append(word[0])\n"
      ]
    },
    {
      "cell_type": "code",
      "execution_count": 13,
      "id": "e01dcab7-fc43-4f0c-9c8f-ce890d6d8e4f",
      "metadata": {
        "colab": {
          "base_uri": "https://localhost:8080/"
        },
        "id": "e01dcab7-fc43-4f0c-9c8f-ce890d6d8e4f",
        "outputId": "6d1a75c7-0ba5-4153-9a1a-909b422426f0"
      },
      "outputs": [
        {
          "output_type": "stream",
          "name": "stdout",
          "text": [
            "120\n",
            "['data analysis', 'process', 'inspecting', 'cleansing', 'transforming', 'data', 'goal', 'useful information', 'conclusions', 'decision-making', 'multiple facets', 'approaches', 'diverse techniques', 'variety', 'names', 'data analysis', 'analysts', 'analysis phase', 'initial data analysis', 'data', 'exploratory', 'analysis', 'confirmatory', 'isbn', 'initial data', 'charts', 'data analysis phase', 'main analysis', 'main analysis phase', 'bar charts', 'data analysis', 'data mining', 'data visualization', 'descriptive statistics', 'exploratory data', 'exploratory data analysis', 'analyzing data', 'data', 'exploratory', 'analysis', 'statistical modeling', 'business intelligence', 'confirmatory', 'phases', 'analytics', 'data analysis', 'data', 'analysis', 'initial data analysis', 'data analysis phase', 'exploratory data analysis', 'initial data', 'analysis phase', 'data analysis contests', 'international data analysis', 'main analysis', 'exploratory data', 'data cleaning', 'data analysis framework', 'variables', 'data', 'data analysis', 'analysis', 'specific variables', 'analysts', 'statistical modeling', 'numbers', 'example', 'diverse techniques', 'comparison', 'charts', 'phases', 'measure', 'statistical', 'isbn', 'data analysis =', 'statistical data analysis', 'data analysis process', 'initial data analysis', 'exploratory data analysis', 'confirmatory data analysis', 'nonlinear data analysis', 'data analysis contests', 'python data analysis', 'pragmatic data analysis', 'data analysis', 'data processing =', 'quantitative data =', 'data sample =', 'data =', 'data', 'data analysis', 'analysis', 'specific variables', 'statistical modeling', 'analysts', 'numbers', 'diverse techniques', 'variety', 'business world', 'example', 'modeling', 'phases', 'comparison', 'charts', 'data analysis', 'analysts', 'data', 'exploratory', 'analysis', 'confirmatory', 'analysis phase', 'phases', 'analytics', 'statistical', 'charts', 'data visualization', 'exploratory data', 'exploratory data analysis', 'data cleaning']\n"
          ]
        }
      ],
      "source": [
        "print(len(words))\n",
        "print(words)"
      ]
    },
    {
      "cell_type": "code",
      "execution_count": 14,
      "id": "5dd68369-323d-4e10-b86f-7a40f97055d5",
      "metadata": {
        "id": "5dd68369-323d-4e10-b86f-7a40f97055d5"
      },
      "outputs": [],
      "source": [
        "d ={}\n",
        "for i in words:\n",
        "  if i in d:\n",
        "    d[i]+= 1\n",
        "  else:\n",
        "    d[i] = 1"
      ]
    },
    {
      "cell_type": "code",
      "execution_count": 15,
      "id": "0c3015b4-5283-4715-8997-bc55f6f3e315",
      "metadata": {
        "id": "0c3015b4-5283-4715-8997-bc55f6f3e315"
      },
      "outputs": [],
      "source": [
        "for i in list(d):\n",
        "  if d[i] < 3:\n",
        "    del d[i]\n",
        "  else:\n",
        "    pass"
      ]
    },
    {
      "cell_type": "code",
      "execution_count": 16,
      "id": "1236ffac-15b2-4f7e-8958-904aac63c657",
      "metadata": {
        "colab": {
          "base_uri": "https://localhost:8080/"
        },
        "id": "1236ffac-15b2-4f7e-8958-904aac63c657",
        "outputId": "854a529a-d43c-4ce4-908e-6da7d946292a"
      },
      "outputs": [
        {
          "output_type": "execute_result",
          "data": {
            "text/plain": [
              "['data analysis',\n",
              " 'data',\n",
              " 'diverse techniques',\n",
              " 'analysts',\n",
              " 'analysis phase',\n",
              " 'initial data analysis',\n",
              " 'exploratory',\n",
              " 'analysis',\n",
              " 'confirmatory',\n",
              " 'charts',\n",
              " 'exploratory data',\n",
              " 'exploratory data analysis',\n",
              " 'statistical modeling',\n",
              " 'phases']"
            ]
          },
          "metadata": {},
          "execution_count": 16
        }
      ],
      "source": [
        "d = list(d)\n",
        "d"
      ]
    },
    {
      "cell_type": "markdown",
      "id": "9963b17e-56b6-4f00-a394-0643791dd70b",
      "metadata": {
        "id": "9963b17e-56b6-4f00-a394-0643791dd70b"
      },
      "source": [
        "## keyword sentence mapping"
      ]
    },
    {
      "cell_type": "code",
      "execution_count": 17,
      "id": "361186b5-3ed5-45c1-a930-d18479ce5d01",
      "metadata": {
        "colab": {
          "base_uri": "https://localhost:8080/"
        },
        "id": "361186b5-3ed5-45c1-a930-d18479ce5d01",
        "outputId": "2a734d76-5f49-4f1b-f94b-43385f05dd5a"
      },
      "outputs": [
        {
          "output_type": "stream",
          "name": "stderr",
          "text": [
            "[nltk_data] Downloading package punkt to /root/nltk_data...\n",
            "[nltk_data]   Unzipping tokenizers/punkt.zip.\n"
          ]
        },
        {
          "output_type": "execute_result",
          "data": {
            "text/plain": [
              "True"
            ]
          },
          "metadata": {},
          "execution_count": 17
        }
      ],
      "source": [
        "import nltk\n",
        "nltk.download('punkt')"
      ]
    },
    {
      "cell_type": "code",
      "execution_count": 18,
      "id": "62d7d9a2-c359-4113-8d20-44f427c55756",
      "metadata": {
        "colab": {
          "base_uri": "https://localhost:8080/"
        },
        "id": "62d7d9a2-c359-4113-8d20-44f427c55756",
        "outputId": "80181112-3774-4f1f-a277-2599459f8015"
      },
      "outputs": [
        {
          "output_type": "stream",
          "name": "stdout",
          "text": [
            "{'data analysis': [\"In today's business world, data analysis plays a role in making decisions more scientific and helping businesses operate more effectively.Data mining is a particular data analysis technique that focuses on statistical modeling and knowledge discovery for predictive rather than purely descriptive purposes, while business intelligence covers data analysis that relies heavily on aggregation, focusing mainly on business information.\", \"In today's business world, data analysis plays a role in making decisions more scientific and helping businesses operate more effectively.Data mining is a particular data analysis technique that focuses on statistical modeling and knowledge discovery for predictive rather than purely descriptive purposes, while business intelligence covers data analysis that relies heavily on aggregation, focusing mainly on business information.\", \"In today's business world, data analysis plays a role in making decisions more scientific and helping businesses operate more effectively.Data mining is a particular data analysis technique that focuses on statistical modeling and knowledge discovery for predictive rather than purely descriptive purposes, while business intelligence covers data analysis that relies heavily on aggregation, focusing mainly on business information.\", 'Statistician John Tukey, defined data analysis in 1961, as:\"Procedures for analyzing data, techniques for interpreting the results of such procedures, ways of planning the gathering of data to make its analysis easier, more precise or more accurate, and all the machinery and results of (mathematical) statistics which apply to analyzing data.', 'The different steps of the data analysis process are carried out in order to realise smart buildings, where the building management and control operations including heating, ventilation, air conditioning, lighting and security are realised automatically by miming the needs of the building users and optimising resources like energy and time.', '=== Main data analysis ===\\nIn the main analysis phase, analyses aimed at answering the research question are performed as well as any other relevant analysis needed to write the first draft of the research report.', '== Free software for data analysis ==\\nNotable free software for data analysis include:\\n\\nDevInfo – A database system endorsed by the United Nations Development Group for monitoring and analyzing human development.', '== Free software for data analysis ==\\nNotable free software for data analysis include:\\n\\nDevInfo – A database system endorsed by the United Nations Development Group for monitoring and analyzing human development.', '== International data analysis contests ==\\nDifferent companies or organizations hold data analysis contests to encourage researchers to utilize their data or to solve a particular question using data analysis.', '== International data analysis contests ==\\nDifferent companies or organizations hold data analysis contests to encourage researchers to utilize their data or to solve a particular question using data analysis.', '== International data analysis contests ==\\nDifferent companies or organizations hold data analysis contests to encourage researchers to utilize their data or to solve a particular question using data analysis.', 'Data analysis  is a process of inspecting, cleansing, transforming, and modeling data with the goal of discovering useful information, informing conclusions, and supporting decision-making.', 'Data analysis has multiple facets and approaches, encompassing diverse techniques under a variety of names, and is used in different business, science, and social science domains.', 'All of the above are varieties of data analysis.Data integration is a precursor to data analysis, and data analysis is closely linked to data visualization and data dissemination.', 'All of the above are varieties of data analysis.Data integration is a precursor to data analysis, and data analysis is closely linked to data visualization and data dissemination.', 'All of the above are varieties of data analysis.Data integration is a precursor to data analysis, and data analysis is closely linked to data visualization and data dissemination.', 'In statistical applications, data analysis can be divided into descriptive statistics, exploratory data analysis (EDA), and confirmatory data analysis (CDA).', 'In statistical applications, data analysis can be divided into descriptive statistics, exploratory data analysis (EDA), and confirmatory data analysis (CDA).', 'Orange – A visual programming tool featuring interactive data visualization and methods for statistical data analysis, data mining, and machine learning.', '== Barriers to effective analysis ==\\nBarriers to effective analysis may exist among the analysts performing the data analysis or among the audience.', 'Data Analysis: an Introduction, Sage Publications Inc, ISBN 0-8039-5772-6\\nNIST/SEMATECH (2008) Handbook of Statistical Methods,\\nPyzdek, T, (2003).', 'Customers specifying requirements and analysts performing the data analysis may consider these messages during the course of the process.', 'Data analysis, is a process for obtaining raw data, and subsequently converting it into information useful for decision-making by users.', '== The process of data analysis ==\\n\\nAnalysis, refers to dividing a whole into its separate components for individual examination.', 'A few examples of well-known international data analysis contests are as follows:\\nKaggle competition, which is held by Kaggle.', 'Distinguishing fact from opinion, cognitive biases, and innumeracy are all challenges to sound data analysis.', 'Nonlinear data analysis is closely related to nonlinear system identification.', 'Graphical Methods for Data Analysis, Wadsworth/Duxbury Press.', 'PAW – FORTRAN/C data analysis framework developed at CERN.', '\"Chapter 14: Phases and initial steps in data analysis\".', 'ROOT –  C++ data analysis framework developed at CERN.', 'LTPP data analysis contest held by FHWA and ASCE.', 'Pandas – Python library for data analysis.', 'SciPy – Python library for data analysis.', 'Python Data Analysis, 2nd Edition.', 'Pragmatic Data Analysis.'], 'data': ['==== Analysis ====\\nSeveral analyses can be used during the initial data analysis phase:\\nUnivariate statistics (single variable)\\nBivariate associations (correlations)\\nGraphical techniques (scatter plots)It is important to take the measurement levels of the variables into account for the analyses, as special statistical techniques are available for each level:\\nNominal and ordinal variables\\nFrequency counts (numbers and percentages)\\nAssociations\\ncircumambulations (crosstabulations)\\nhierarchical loglinear analysis (restricted to a maximum of 8 variables)\\nloglinear analysis (to identify relevant/important variables and possible confounders)\\nExact tests or bootstrapping (in case subgroups are small)\\nComputation of new variables\\nContinuous variables\\nDistribution\\nStatistics (M, SD, variance, skewness, kurtosis)\\nStem-and-leaf displays\\nBox plots\\n\\n\\n==== Nonlinear analysis ====\\nNonlinear analysis is often necessary when the data is recorded from a nonlinear system.', 'These include:\\n\\nCheck raw data for anomalies prior to performing an analysis;\\nRe-perform important calculations, such as verifying columns of data that are formula driven;\\nConfirm main totals are the sum of subtotals;\\nCheck relationships between numbers that should be related in a predictable way, such as ratios over time;\\nNormalize numbers to make comparisons easier, such as analyzing amounts per person or relative to GDP or as an index value relative to a base year;\\nBreak problems into component parts by analyzing factors that led to the results, such as DuPont analysis of return on equity.For the variables under examination, analysts typically obtain descriptive statistics for them, such as the mean (average), median, and standard deviation.', 'These include:\\n\\nCheck raw data for anomalies prior to performing an analysis;\\nRe-perform important calculations, such as verifying columns of data that are formula driven;\\nConfirm main totals are the sum of subtotals;\\nCheck relationships between numbers that should be related in a predictable way, such as ratios over time;\\nNormalize numbers to make comparisons easier, such as analyzing amounts per person or relative to GDP or as an index value relative to a base year;\\nBreak problems into component parts by analyzing factors that led to the results, such as DuPont analysis of return on equity.For the variables under examination, analysts typically obtain descriptive statistics for them, such as the mean (average), median, and standard deviation.', 'It is especially important to exactly determine the structure of the sample (and specifically the size of the subgroups) when subgroup analyses will be performed during the main analysis phase.The characteristics of the data sample can be assessed by looking at:\\n\\nBasic statistics of important variables\\nScatter plots\\nCorrelations and associations\\nCross-tabulations\\n\\n\\n==== Final stage of the initial data analysis ====\\nDuring the final stage, the findings of the initial data analysis are documented, and necessary, preferable, and possible corrective actions are taken.Also, the original plan for the main data analyses can and should be specified in more detail or rewritten.', 'It is especially important to exactly determine the structure of the sample (and specifically the size of the subgroups) when subgroup analyses will be performed during the main analysis phase.The characteristics of the data sample can be assessed by looking at:\\n\\nBasic statistics of important variables\\nScatter plots\\nCorrelations and associations\\nCross-tabulations\\n\\n\\n==== Final stage of the initial data analysis ====\\nDuring the final stage, the findings of the initial data analysis are documented, and necessary, preferable, and possible corrective actions are taken.Also, the original plan for the main data analyses can and should be specified in more detail or rewritten.', 'If the study did not need or use a randomization procedure, one should check the success of the non-random sampling, for instance by checking whether all subgroups of the population of interest are represented in sample.Other possible data distortions that should be checked are:\\n\\ndropout (this should be identified during the initial data analysis phase)\\nItem non-response (whether this is random or not should be assessed during the initial data analysis phase)\\nTreatment quality (using manipulation checks).', \"During this analysis, one inspects the variances of the items and the scales, the Cronbach's α of the scales, and the change in the Cronbach's alpha when an item would be deleted from a scale\\n\\n\\n==== Initial transformations ====\\nAfter assessing the quality of the data and of the measurements, one might decide to impute missing data, or to perform initial transformations of one or more variables, although this can also be done during the main analysis phase.\", \"During this analysis, one inspects the variances of the items and the scales, the Cronbach's α of the scales, and the change in the Cronbach's alpha when an item would be deleted from a scale\\n\\n\\n==== Initial transformations ====\\nAfter assessing the quality of the data and of the measurements, one might decide to impute missing data, or to perform initial transformations of one or more variables, although this can also be done during the main analysis phase.\", \"In today's business world, data analysis plays a role in making decisions more scientific and helping businesses operate more effectively.Data mining is a particular data analysis technique that focuses on statistical modeling and knowledge discovery for predictive rather than purely descriptive purposes, while business intelligence covers data analysis that relies heavily on aggregation, focusing mainly on business information.\", 'Hypothesis testing involves considering the likelihood of Type I and type II errors, which relate to whether the data supports accepting or rejecting the hypothesis.Regression analysis may be used when the analyst is trying to determine the extent to which independent variable X affects dependent variable Y (e.g., \"To what extent do changes in the unemployment rate (X) affect the inflation rate (Y)?\").', 'This is an attempt to model or fit an equation line or curve to the data, such that Y is a function of X.Necessary condition analysis (NCA) may be used when the analyst is trying to determine the extent to which independent variable X allows variable Y (e.g., \"To what extent is a certain unemployment rate (X) necessary for a certain inflation rate (Y)?\").', \"In general terms, models may be developed to evaluate a specific variable based on other variable(s) contained within the dataset, with some residual error depending on the implemented model's accuracy (e.g., Data = Model + Error).Inferential statistics, includes utilizing techniques that measure the relationships between particular variables.\", 'Statistician John Tukey, defined data analysis in 1961, as:\"Procedures for analyzing data, techniques for interpreting the results of such procedures, ways of planning the gathering of data to make its analysis easier, more precise or more accurate, and all the machinery and results of (mathematical) statistics which apply to analyzing data.', 'Statistician John Tukey, defined data analysis in 1961, as:\"Procedures for analyzing data, techniques for interpreting the results of such procedures, ways of planning the gathering of data to make its analysis easier, more precise or more accurate, and all the machinery and results of (mathematical) statistics which apply to analyzing data.', 'Statistician John Tukey, defined data analysis in 1961, as:\"Procedures for analyzing data, techniques for interpreting the results of such procedures, ways of planning the gathering of data to make its analysis easier, more precise or more accurate, and all the machinery and results of (mathematical) statistics which apply to analyzing data.', 'Predictive analytics focuses on the application of statistical models for predictive forecasting or classification, while text analytics applies statistical, linguistic, and structural techniques to extract and classify information from textual sources, a species of unstructured data.', 'As such, much of the analytical cycle is iterative.When determining how to communicate the results, the analyst may consider implementing a variety of data visualization techniques to help communicate the message more clearly and efficiently to the audience.', 'These data systems present data to educators in an over-the-counter data format (embedding labels, supplemental documentation, and a help system and making key package/display and content decisions) to improve the accuracy of educators’ data analyses.', 'These data systems present data to educators in an over-the-counter data format (embedding labels, supplemental documentation, and a help system and making key package/display and content decisions) to improve the accuracy of educators’ data analyses.', 'These data systems present data to educators in an over-the-counter data format (embedding labels, supplemental documentation, and a help system and making key package/display and content decisions) to improve the accuracy of educators’ data analyses.', 'These data systems present data to educators in an over-the-counter data format (embedding labels, supplemental documentation, and a help system and making key package/display and content decisions) to improve the accuracy of educators’ data analyses.', 'Data quality can be assessed in several ways, using different types of analysis: frequency counts, descriptive statistics (mean, standard deviation, median), normality (skewness, kurtosis, frequency histograms), normal imputation is needed.', 'In order to do this, several decisions about the main data analyses can and should be made:\\n\\nIn the case of non-normals: should one transform variables; make variables categorical (ordinal/dichotomous); adapt the analysis method?', '== Quantitative messages ==\\n\\nStephen Few described eight types of quantitative messages that users may attempt to understand or communicate from a set of data and the associated graphs used to help communicate the message.', '=== Data requirements ===\\nThe data is necessary as inputs to the analysis, which is specified based upon the requirements of those directing the analytics (or customers, who will use the finished product of the analysis).', '=== Data requirements ===\\nThe data is necessary as inputs to the analysis, which is specified based upon the requirements of those directing the analytics (or customers, who will use the finished product of the analysis).', '=== Analytics and business intelligence ===\\n\\nAnalytics is the \"extensive use of data, statistical and quantitative analysis, explanatory and predictive models, and fact-based management to drive decisions and actions.\"', '=== modeling and algorithms ===\\nMathematical formulas or models (known as algorithms), may be applied to the data in order to identify relationships among the variables; for example, using correlation or causation.', 'Tables are a valuable tool by enabling the ability of a user to query and focus on specific numbers; while charts (e.g., bar charts or line charts), may help explain the quantitative messages contained in the data.', '== International data analysis contests ==\\nDifferent companies or organizations hold data analysis contests to encourage researchers to utilize their data or to solve a particular question using data analysis.', 'Comparison and correction of differences in coding schemes: variables are compared with coding schemes of variables external to the data set, and possibly corrected if coding schemes are not comparable.', 'The process of data exploration may result in additional data cleaning or additional requests for data; thus, the initialization of the iterative phases mentioned in the lead paragraph of this section.', 'The process of data exploration may result in additional data cleaning or additional requests for data; thus, the initialization of the iterative phases mentioned in the lead paragraph of this section.', 'The process of data exploration may result in additional data cleaning or additional requests for data; thus, the initialization of the iterative phases mentioned in the lead paragraph of this section.', 'Persons communicating the data may also be attempting to mislead or misinform, deliberately using bad numerical techniques.For example, whether a number is rising or falling may not be the key factor.', 'For instance, these may involve placing data into rows and columns in a table format (known as structured data) for further analysis, often through the use of spreadsheet or statistical software.', 'For instance, these may involve placing data into rows and columns in a table format (known as structured data) for further analysis, often through the use of spreadsheet or statistical software.', 'Data visualization is also a technique used, in which the analyst is able to examine the data in a graphical format in order to obtain additional insights, regarding the messages within the data.', 'Data visualization is also a technique used, in which the analyst is able to examine the data in a graphical format in order to obtain additional insights, regarding the messages within the data.', 'Data visualization is also a technique used, in which the analyst is able to examine the data in a graphical format in order to obtain additional insights, regarding the messages within the data.', 'Test for common-method variance.The choice of analyses to assess the data quality during the initial data analysis phase depends on the analyses that will be conducted in the main analysis phase.', 'Hypothesis testing is used when a particular hypothesis about the true state of affairs is made by the analyst and data is gathered to determine whether that state of affairs is true or false.', 'Data analysis  is a process of inspecting, cleansing, transforming, and modeling data with the goal of discovering useful information, informing conclusions, and supporting decision-making.', 'Analysts apply a variety of techniques to address the various quantitative messages described in the section above.Analysts may also analyze data under different assumptions or scenario.', 'There are many such techniques employed by analysts, whether adjusting for inflation (i.e., comparing real vs. nominal data) or considering population increases, demographics, etc.', 'All of the above are varieties of data analysis.Data integration is a precursor to data analysis, and data analysis is closely linked to data visualization and data dissemination.', 'All of the above are varieties of data analysis.Data integration is a precursor to data analysis, and data analysis is closely linked to data visualization and data dissemination.', 'All of the above are varieties of data analysis.Data integration is a precursor to data analysis, and data analysis is closely linked to data visualization and data dissemination.', 'It is a subset of business intelligence, which is a set of technologies and processes that uses data to understand and analyze business performance to drive decision-making .', 'By splitting the data into multiple parts, we can check if an analysis (like a fitted model) based on one part of the data generalizes to another part of the data as well.', 'By splitting the data into multiple parts, we can check if an analysis (like a fitted model) based on one part of the data generalizes to another part of the data as well.', 'By splitting the data into multiple parts, we can check if an analysis (like a fitted model) based on one part of the data generalizes to another part of the data as well.', 'There are several types of data cleaning, that are dependent upon the type of data in the set; this could be phone numbers, email addresses, employers, or other values.', 'There are several types of data cleaning, that are dependent upon the type of data in the set; this could be phone numbers, email addresses, employers, or other values.', 'The initial data analysis phase is guided by the following four questions:\\n\\n\\n==== Quality of data ====\\nThe quality of the data should be checked as early as possible.', 'The initial data analysis phase is guided by the following four questions:\\n\\n\\n==== Quality of data ====\\nThe quality of the data should be checked as early as possible.', '== Analytical activities of data users ==\\nUsers may have particular data points of interest within a data set, as opposed to the general messaging outlined above.', '== Analytical activities of data users ==\\nUsers may have particular data points of interest within a data set, as opposed to the general messaging outlined above.', '== Analytical activities of data users ==\\nUsers may have particular data points of interest within a data set, as opposed to the general messaging outlined above.', 'Analysts may apply a variety of techniques, referred to as exploratory data analysis, to begin understanding the messages contained within the obtained data.', 'For instance, an application that analyzes data about customer purchase history, and uses the results to recommend other purchases the customer might enjoy.', 'Orange – A visual programming tool featuring interactive data visualization and methods for statistical data analysis, data mining, and machine learning.', 'Orange – A visual programming tool featuring interactive data visualization and methods for statistical data analysis, data mining, and machine learning.', '== Techniques for analyzing quantitative data ==\\n\\nAuthor Jonathan Koomey has recommended a series of best practices for understanding quantitative data.', '== Techniques for analyzing quantitative data ==\\n\\nAuthor Jonathan Koomey has recommended a series of best practices for understanding quantitative data.', 'Quantitative data methods for outlier detection, can be used to get rid of data that appears to have a higher likelihood of being input incorrectly.', 'Quantitative data methods for outlier detection, can be used to get rid of data that appears to have a higher likelihood of being input incorrectly.', 'In an exploratory analysis no clear hypothesis is stated before analysing the data, and the data is searched for models that describe the data well.', 'In an exploratory analysis no clear hypothesis is stated before analysing the data, and the data is searched for models that describe the data well.', 'In an exploratory analysis no clear hypothesis is stated before analysing the data, and the data is searched for models that describe the data well.', '=== Data product ===\\nA data product is a computer application that takes data inputs and generates outputs, feeding them back into the environment.', '=== Data product ===\\nA data product is a computer application that takes data inputs and generates outputs, feeding them back into the environment.', '=== Data product ===\\nA data product is a computer application that takes data inputs and generates outputs, feeding them back into the environment.', 'The general type of entity upon which the data will be collected is referred to as an experimental unit (e.g., a person or population of people).', 'Common tasks include record matching, identifying inaccuracy of data, overall quality of existing data, deduplication, and column segmentation.', 'Common tasks include record matching, identifying inaccuracy of data, overall quality of existing data, deduplication, and column segmentation.', 'The requirements may be communicated by analysts to custodians of the data; such as, Information Technology personnel within an organization.', '=== Communication ===\\n\\nOnce data is analyzed, it may be reported in many formats to the users of the analysis to support their requirements.', 'Data visualization uses information displays (graphics such as, tables and charts) to help communicate key messages contained in the data.', 'Data visualization uses information displays (graphics such as, tables and charts) to help communicate key messages contained in the data.', 'Data analysis, is a process for obtaining raw data, and subsequently converting it into information useful for decision-making by users.', '== Other topics ==\\n\\n\\n=== Smart buildings ===\\nA data analytics approach can be used in order to predict energy consumption in buildings.', 'Analysts may also attempt to build models that are descriptive of the data, in an aim to simplify analysis and communicate results.', 'The taxonomy can also be organized by three poles of activities: retrieving values, finding data points, and arranging data points.', 'The taxonomy can also be organized by three poles of activities: retrieving values, finding data points, and arranging data points.', 'Analysis of extreme observations: outlying observations in the data are analyzed to see if they seem to disturb the distribution.', 'In a confirmatory analysis clear hypotheses about the data are tested.Exploratory data analysis should be interpreted carefully.', 'The data may also be collected from sensors in the environment, including traffic cameras, satellites, recording devices, etc.', '==== Characteristics of data sample ====\\nIn any report or article, the structure of the sample must be accurately described.', '=== Data cleaning ===\\n\\nOnce processed and organized, the data may be incomplete, contain duplicates, or contain errors.', '=== Data cleaning ===\\n\\nOnce processed and organized, the data may be incomplete, contain duplicates, or contain errors.', '=== Education ===\\n\\nIn education, most educators have access to a data system for the purpose of analyzing student data.', '=== Education ===\\n\\nIn education, most educators have access to a data system for the purpose of analyzing student data.', 'EDA focuses on discovering new features in the data while CDA focuses on confirming or falsifying existing hypotheses.', 'In the case of missing data: should one neglect or impute the missing data; which imputation technique should be used?', 'In the case of missing data: should one neglect or impute the missing data; which imputation technique should be used?', 'Descriptive statistics, such as, the average or median, can be generated to aid in understanding the data.', 'The need for data cleaning will arise from problems in the way that the datum are entered and stored.', '=== Data processing ===\\n\\nData, when initially obtained, must be processed or organized for analysis.', '=== Data processing ===\\n\\nData, when initially obtained, must be processed or organized for analysis.', 'Cross-validation is generally inappropriate, though, if there are correlations within the data, e.g.', 'KNIME – The Konstanz Information Miner, a user friendly and comprehensive data analytics framework.', 'Data, is collected and analyzed to answer questions, test hypotheses, or disprove theories.', 'This requires extensive analysis of factual data and evidence to support their opinion.', 'ELKI – Data mining framework in Java with data mining oriented visualization functions.', 'ELKI – Data mining framework in Java with data mining oriented visualization functions.', 'Such data problems can also be identified through a variety of analytical techniques.', 'Textual data spell checkers can be used to lessen the amount of mis-typed words.', 'Data cleaning is the process of preventing and correcting these errors.', 'Data may be numerical or categorical (i.e., a text label for numbers).', '=== Data collection ===\\nData is collected from a variety of sources.', '=== Data collection ===\\nData is collected from a variety of sources.', 'The CRISP framework, used in data mining, has similar steps.', 'Usually the approach is decided before data is collected.', 'Screening data prior to analysis.'], 'diverse techniques': ['Data analysis has multiple facets and approaches, encompassing diverse techniques under a variety of names, and is used in different business, science, and social science domains.'], 'analysts': ['These include:\\n\\nCheck raw data for anomalies prior to performing an analysis;\\nRe-perform important calculations, such as verifying columns of data that are formula driven;\\nConfirm main totals are the sum of subtotals;\\nCheck relationships between numbers that should be related in a predictable way, such as ratios over time;\\nNormalize numbers to make comparisons easier, such as analyzing amounts per person or relative to GDP or as an index value relative to a base year;\\nBreak problems into component parts by analyzing factors that led to the results, such as DuPont analysis of return on equity.For the variables under examination, analysts typically obtain descriptive statistics for them, such as the mean (average), median, and standard deviation.', 'For example, when analysts perform financial statement analysis, they will often recast the financial statements under different assumptions to help arrive at an estimate of future cash flow, which they then discount to present value based on some interest rate, to determine the valuation of the company or its stock.', 'In turn, total revenue can be analyzed by its components, such as the revenue of divisions A, B, and C (which are mutually exclusive of each other) and should add to the total revenue (collectively exhaustive).Analysts may use robust statistical measurements to solve certain analytical problems.', 'In his book Psychology of Intelligence Analysis, retired CIA analyst Richards Heuer wrote that analysts should clearly delineate their assumptions and chains of inference and specify the degree and source of the uncertainty involved in the conclusions.', 'Analysts apply a variety of techniques to address the various quantitative messages described in the section above.Analysts may also analyze data under different assumptions or scenario.', 'Analysts apply a variety of techniques to address the various quantitative messages described in the section above.Analysts may also analyze data under different assumptions or scenario.', 'There are many such techniques employed by analysts, whether adjusting for inflation (i.e., comparing real vs. nominal data) or considering population increases, demographics, etc.', 'In addition, individuals may discredit information that does not support their views.Analysts may be trained specifically to be aware of these biases and how to overcome them.', 'Analysts may apply a variety of techniques, referred to as exploratory data analysis, to begin understanding the messages contained within the obtained data.', '== Barriers to effective analysis ==\\nBarriers to effective analysis may exist among the analysts performing the data analysis or among the audience.', 'The requirements may be communicated by analysts to custodians of the data; such as, Information Technology personnel within an organization.', 'Customers specifying requirements and analysts performing the data analysis may consider these messages during the course of the process.', 'Analysts may also attempt to build models that are descriptive of the data, in an aim to simplify analysis and communicate results.', '=== Innumeracy ===\\nEffective analysts are generally adept with a variety of numerical techniques.'], 'analysis phase': ['It is especially important to exactly determine the structure of the sample (and specifically the size of the subgroups) when subgroup analyses will be performed during the main analysis phase.The characteristics of the data sample can be assessed by looking at:\\n\\nBasic statistics of important variables\\nScatter plots\\nCorrelations and associations\\nCross-tabulations\\n\\n\\n==== Final stage of the initial data analysis ====\\nDuring the final stage, the findings of the initial data analysis are documented, and necessary, preferable, and possible corrective actions are taken.Also, the original plan for the main data analyses can and should be specified in more detail or rewritten.', \"During this analysis, one inspects the variances of the items and the scales, the Cronbach's α of the scales, and the change in the Cronbach's alpha when an item would be deleted from a scale\\n\\n\\n==== Initial transformations ====\\nAfter assessing the quality of the data and of the measurements, one might decide to impute missing data, or to perform initial transformations of one or more variables, although this can also be done during the main analysis phase.\", '=== Initial data analysis ===\\nThe most important distinction between the initial data analysis phase and the main analysis phase, is that during initial data analysis one refrains from any analysis that is aimed at answering the original research question.', '=== Main data analysis ===\\nIn the main analysis phase, analyses aimed at answering the research question are performed as well as any other relevant analysis needed to write the first draft of the research report.', 'Test for common-method variance.The choice of analyses to assess the data quality during the initial data analysis phase depends on the analyses that will be conducted in the main analysis phase.', '==== Exploratory and confirmatory approaches ====\\nIn the main analysis phase, either an exploratory or confirmatory approach can be adopted.', '\"Chapter 15: The main analysis phase\".'], 'initial data analysis': ['==== Analysis ====\\nSeveral analyses can be used during the initial data analysis phase:\\nUnivariate statistics (single variable)\\nBivariate associations (correlations)\\nGraphical techniques (scatter plots)It is important to take the measurement levels of the variables into account for the analyses, as special statistical techniques are available for each level:\\nNominal and ordinal variables\\nFrequency counts (numbers and percentages)\\nAssociations\\ncircumambulations (crosstabulations)\\nhierarchical loglinear analysis (restricted to a maximum of 8 variables)\\nloglinear analysis (to identify relevant/important variables and possible confounders)\\nExact tests or bootstrapping (in case subgroups are small)\\nComputation of new variables\\nContinuous variables\\nDistribution\\nStatistics (M, SD, variance, skewness, kurtosis)\\nStem-and-leaf displays\\nBox plots\\n\\n\\n==== Nonlinear analysis ====\\nNonlinear analysis is often necessary when the data is recorded from a nonlinear system.', 'It is especially important to exactly determine the structure of the sample (and specifically the size of the subgroups) when subgroup analyses will be performed during the main analysis phase.The characteristics of the data sample can be assessed by looking at:\\n\\nBasic statistics of important variables\\nScatter plots\\nCorrelations and associations\\nCross-tabulations\\n\\n\\n==== Final stage of the initial data analysis ====\\nDuring the final stage, the findings of the initial data analysis are documented, and necessary, preferable, and possible corrective actions are taken.Also, the original plan for the main data analyses can and should be specified in more detail or rewritten.', 'It is especially important to exactly determine the structure of the sample (and specifically the size of the subgroups) when subgroup analyses will be performed during the main analysis phase.The characteristics of the data sample can be assessed by looking at:\\n\\nBasic statistics of important variables\\nScatter plots\\nCorrelations and associations\\nCross-tabulations\\n\\n\\n==== Final stage of the initial data analysis ====\\nDuring the final stage, the findings of the initial data analysis are documented, and necessary, preferable, and possible corrective actions are taken.Also, the original plan for the main data analyses can and should be specified in more detail or rewritten.', 'If the study did not need or use a randomization procedure, one should check the success of the non-random sampling, for instance by checking whether all subgroups of the population of interest are represented in sample.Other possible data distortions that should be checked are:\\n\\ndropout (this should be identified during the initial data analysis phase)\\nItem non-response (whether this is random or not should be assessed during the initial data analysis phase)\\nTreatment quality (using manipulation checks).', 'If the study did not need or use a randomization procedure, one should check the success of the non-random sampling, for instance by checking whether all subgroups of the population of interest are represented in sample.Other possible data distortions that should be checked are:\\n\\ndropout (this should be identified during the initial data analysis phase)\\nItem non-response (whether this is random or not should be assessed during the initial data analysis phase)\\nTreatment quality (using manipulation checks).', '=== Initial data analysis ===\\nThe most important distinction between the initial data analysis phase and the main analysis phase, is that during initial data analysis one refrains from any analysis that is aimed at answering the original research question.', '=== Initial data analysis ===\\nThe most important distinction between the initial data analysis phase and the main analysis phase, is that during initial data analysis one refrains from any analysis that is aimed at answering the original research question.', '=== Initial data analysis ===\\nThe most important distinction between the initial data analysis phase and the main analysis phase, is that during initial data analysis one refrains from any analysis that is aimed at answering the original research question.', '==== Quality of measurements ====\\nThe quality of the measurement instruments should only be checked during the initial data analysis phase when this is not the focus or research question of the study.', 'Test for common-method variance.The choice of analyses to assess the data quality during the initial data analysis phase depends on the analyses that will be conducted in the main analysis phase.', 'The initial data analysis phase is guided by the following four questions:\\n\\n\\n==== Quality of data ====\\nThe quality of the data should be checked as early as possible.'], 'exploratory': ['When a model is found exploratory in a dataset, then following up that analysis with a confirmatory analysis in the same dataset could simply mean that the results of the confirmatory analysis are due to the same type 1 error that resulted in the exploratory model in the first place.', 'When a model is found exploratory in a dataset, then following up that analysis with a confirmatory analysis in the same dataset could simply mean that the results of the confirmatory analysis are due to the same type 1 error that resulted in the exploratory model in the first place.', 'In an exploratory analysis no clear hypothesis is stated before analysing the data, and the data is searched for models that describe the data well.', '==== Exploratory and confirmatory approaches ====\\nIn the main analysis phase, either an exploratory or confirmatory approach can be adopted.', '==== Exploratory and confirmatory approaches ====\\nIn the main analysis phase, either an exploratory or confirmatory approach can be adopted.', 'Also, one should not follow up an exploratory analysis with a confirmatory analysis in the same dataset.', 'The confirmatory analysis therefore will not be more informative than the original exploratory analysis.', 'An exploratory analysis is used to find ideas for a theory, but not to test that theory as well.'], 'analysis': ['==== Analysis ====\\nSeveral analyses can be used during the initial data analysis phase:\\nUnivariate statistics (single variable)\\nBivariate associations (correlations)\\nGraphical techniques (scatter plots)It is important to take the measurement levels of the variables into account for the analyses, as special statistical techniques are available for each level:\\nNominal and ordinal variables\\nFrequency counts (numbers and percentages)\\nAssociations\\ncircumambulations (crosstabulations)\\nhierarchical loglinear analysis (restricted to a maximum of 8 variables)\\nloglinear analysis (to identify relevant/important variables and possible confounders)\\nExact tests or bootstrapping (in case subgroups are small)\\nComputation of new variables\\nContinuous variables\\nDistribution\\nStatistics (M, SD, variance, skewness, kurtosis)\\nStem-and-leaf displays\\nBox plots\\n\\n\\n==== Nonlinear analysis ====\\nNonlinear analysis is often necessary when the data is recorded from a nonlinear system.', '==== Analysis ====\\nSeveral analyses can be used during the initial data analysis phase:\\nUnivariate statistics (single variable)\\nBivariate associations (correlations)\\nGraphical techniques (scatter plots)It is important to take the measurement levels of the variables into account for the analyses, as special statistical techniques are available for each level:\\nNominal and ordinal variables\\nFrequency counts (numbers and percentages)\\nAssociations\\ncircumambulations (crosstabulations)\\nhierarchical loglinear analysis (restricted to a maximum of 8 variables)\\nloglinear analysis (to identify relevant/important variables and possible confounders)\\nExact tests or bootstrapping (in case subgroups are small)\\nComputation of new variables\\nContinuous variables\\nDistribution\\nStatistics (M, SD, variance, skewness, kurtosis)\\nStem-and-leaf displays\\nBox plots\\n\\n\\n==== Nonlinear analysis ====\\nNonlinear analysis is often necessary when the data is recorded from a nonlinear system.', '==== Analysis ====\\nSeveral analyses can be used during the initial data analysis phase:\\nUnivariate statistics (single variable)\\nBivariate associations (correlations)\\nGraphical techniques (scatter plots)It is important to take the measurement levels of the variables into account for the analyses, as special statistical techniques are available for each level:\\nNominal and ordinal variables\\nFrequency counts (numbers and percentages)\\nAssociations\\ncircumambulations (crosstabulations)\\nhierarchical loglinear analysis (restricted to a maximum of 8 variables)\\nloglinear analysis (to identify relevant/important variables and possible confounders)\\nExact tests or bootstrapping (in case subgroups are small)\\nComputation of new variables\\nContinuous variables\\nDistribution\\nStatistics (M, SD, variance, skewness, kurtosis)\\nStem-and-leaf displays\\nBox plots\\n\\n\\n==== Nonlinear analysis ====\\nNonlinear analysis is often necessary when the data is recorded from a nonlinear system.', '==== Analysis ====\\nSeveral analyses can be used during the initial data analysis phase:\\nUnivariate statistics (single variable)\\nBivariate associations (correlations)\\nGraphical techniques (scatter plots)It is important to take the measurement levels of the variables into account for the analyses, as special statistical techniques are available for each level:\\nNominal and ordinal variables\\nFrequency counts (numbers and percentages)\\nAssociations\\ncircumambulations (crosstabulations)\\nhierarchical loglinear analysis (restricted to a maximum of 8 variables)\\nloglinear analysis (to identify relevant/important variables and possible confounders)\\nExact tests or bootstrapping (in case subgroups are small)\\nComputation of new variables\\nContinuous variables\\nDistribution\\nStatistics (M, SD, variance, skewness, kurtosis)\\nStem-and-leaf displays\\nBox plots\\n\\n\\n==== Nonlinear analysis ====\\nNonlinear analysis is often necessary when the data is recorded from a nonlinear system.', '==== Analysis ====\\nSeveral analyses can be used during the initial data analysis phase:\\nUnivariate statistics (single variable)\\nBivariate associations (correlations)\\nGraphical techniques (scatter plots)It is important to take the measurement levels of the variables into account for the analyses, as special statistical techniques are available for each level:\\nNominal and ordinal variables\\nFrequency counts (numbers and percentages)\\nAssociations\\ncircumambulations (crosstabulations)\\nhierarchical loglinear analysis (restricted to a maximum of 8 variables)\\nloglinear analysis (to identify relevant/important variables and possible confounders)\\nExact tests or bootstrapping (in case subgroups are small)\\nComputation of new variables\\nContinuous variables\\nDistribution\\nStatistics (M, SD, variance, skewness, kurtosis)\\nStem-and-leaf displays\\nBox plots\\n\\n\\n==== Nonlinear analysis ====\\nNonlinear analysis is often necessary when the data is recorded from a nonlinear system.', 'These include:\\n\\nCheck raw data for anomalies prior to performing an analysis;\\nRe-perform important calculations, such as verifying columns of data that are formula driven;\\nConfirm main totals are the sum of subtotals;\\nCheck relationships between numbers that should be related in a predictable way, such as ratios over time;\\nNormalize numbers to make comparisons easier, such as analyzing amounts per person or relative to GDP or as an index value relative to a base year;\\nBreak problems into component parts by analyzing factors that led to the results, such as DuPont analysis of return on equity.For the variables under examination, analysts typically obtain descriptive statistics for them, such as the mean (average), median, and standard deviation.', 'These include:\\n\\nCheck raw data for anomalies prior to performing an analysis;\\nRe-perform important calculations, such as verifying columns of data that are formula driven;\\nConfirm main totals are the sum of subtotals;\\nCheck relationships between numbers that should be related in a predictable way, such as ratios over time;\\nNormalize numbers to make comparisons easier, such as analyzing amounts per person or relative to GDP or as an index value relative to a base year;\\nBreak problems into component parts by analyzing factors that led to the results, such as DuPont analysis of return on equity.For the variables under examination, analysts typically obtain descriptive statistics for them, such as the mean (average), median, and standard deviation.', \"During this analysis, one inspects the variances of the items and the scales, the Cronbach's α of the scales, and the change in the Cronbach's alpha when an item would be deleted from a scale\\n\\n\\n==== Initial transformations ====\\nAfter assessing the quality of the data and of the measurements, one might decide to impute missing data, or to perform initial transformations of one or more variables, although this can also be done during the main analysis phase.\", 'Hypothesis testing involves considering the likelihood of Type I and type II errors, which relate to whether the data supports accepting or rejecting the hypothesis.Regression analysis may be used when the analyst is trying to determine the extent to which independent variable X affects dependent variable Y (e.g., \"To what extent do changes in the unemployment rate (X) affect the inflation rate (Y)?\").', \"Whereas (multiple) regression analysis uses additive logic where each X-variable can produce the outcome and the X's can compensate for each other (they are sufficient but not necessary), necessary condition analysis (NCA) uses necessity logic, where one or more X-variables allow the outcome to exist, but may not produce it (they are necessary but not sufficient).\", \"Whereas (multiple) regression analysis uses additive logic where each X-variable can produce the outcome and the X's can compensate for each other (they are sufficient but not necessary), necessary condition analysis (NCA) uses necessity logic, where one or more X-variables allow the outcome to exist, but may not produce it (they are necessary but not sufficient).\", 'This is an attempt to model or fit an equation line or curve to the data, such that Y is a function of X.Necessary condition analysis (NCA) may be used when the analyst is trying to determine the extent to which independent variable X allows variable Y (e.g., \"To what extent is a certain unemployment rate (X) necessary for a certain inflation rate (Y)?\").', 'Statistician John Tukey, defined data analysis in 1961, as:\"Procedures for analyzing data, techniques for interpreting the results of such procedures, ways of planning the gathering of data to make its analysis easier, more precise or more accurate, and all the machinery and results of (mathematical) statistics which apply to analyzing data.', 'For example, when analysts perform financial statement analysis, they will often recast the financial statements under different assumptions to help arrive at an estimate of future cash flow, which they then discount to present value based on some interest rate, to determine the valuation of the company or its stock.', 'When a model is found exploratory in a dataset, then following up that analysis with a confirmatory analysis in the same dataset could simply mean that the results of the confirmatory analysis are due to the same type 1 error that resulted in the exploratory model in the first place.', 'When a model is found exploratory in a dataset, then following up that analysis with a confirmatory analysis in the same dataset could simply mean that the results of the confirmatory analysis are due to the same type 1 error that resulted in the exploratory model in the first place.', 'When a model is found exploratory in a dataset, then following up that analysis with a confirmatory analysis in the same dataset could simply mean that the results of the confirmatory analysis are due to the same type 1 error that resulted in the exploratory model in the first place.', '=== Initial data analysis ===\\nThe most important distinction between the initial data analysis phase and the main analysis phase, is that during initial data analysis one refrains from any analysis that is aimed at answering the original research question.', 'In his book Psychology of Intelligence Analysis, retired CIA analyst Richards Heuer wrote that analysts should clearly delineate their assumptions and chains of inference and specify the degree and source of the uncertainty involved in the conclusions.', 'Data quality can be assessed in several ways, using different types of analysis: frequency counts, descriptive statistics (mean, standard deviation, median), normality (skewness, kurtosis, frequency histograms), normal imputation is needed.', 'In order to do this, several decisions about the main data analyses can and should be made:\\n\\nIn the case of non-normals: should one transform variables; make variables categorical (ordinal/dichotomous); adapt the analysis method?', '=== Data requirements ===\\nThe data is necessary as inputs to the analysis, which is specified based upon the requirements of those directing the analytics (or customers, who will use the finished product of the analysis).', '=== Data requirements ===\\nThe data is necessary as inputs to the analysis, which is specified based upon the requirements of those directing the analytics (or customers, who will use the finished product of the analysis).', '=== Analytics and business intelligence ===\\n\\nAnalytics is the \"extensive use of data, statistical and quantitative analysis, explanatory and predictive models, and fact-based management to drive decisions and actions.\"', '=== Main data analysis ===\\nIn the main analysis phase, analyses aimed at answering the research question are performed as well as any other relevant analysis needed to write the first draft of the research report.', 'There are two ways to assess measurement quality:\\n\\nConfirmatory factor analysis\\nAnalysis of homogeneity (internal consistency), which gives an indication of the reliability of a measurement instrument.', 'There are two ways to assess measurement quality:\\n\\nConfirmatory factor analysis\\nAnalysis of homogeneity (internal consistency), which gives an indication of the reliability of a measurement instrument.', 'For instance, these may involve placing data into rows and columns in a table format (known as structured data) for further analysis, often through the use of spreadsheet or statistical software.', 'For example, regression analysis may be used to model whether a change in advertising (independent variable X), provides an explanation for the variation in sales (dependent variable Y).', 'By splitting the data into multiple parts, we can check if an analysis (like a fitted model) based on one part of the data generalizes to another part of the data as well.', '=== Confusing fact and opinion ===\\n\\nEffective analysis requires obtaining relevant facts to answer questions, support a conclusion or formal opinion, or test hypotheses.', '== Barriers to effective analysis ==\\nBarriers to effective analysis may exist among the analysts performing the data analysis or among the audience.', '== Barriers to effective analysis ==\\nBarriers to effective analysis may exist among the analysts performing the data analysis or among the audience.', 'In an exploratory analysis no clear hypothesis is stated before analysing the data, and the data is searched for models that describe the data well.', '=== Communication ===\\n\\nOnce data is analyzed, it may be reported in many formats to the users of the analysis to support their requirements.', 'Analysts may also attempt to build models that are descriptive of the data, in an aim to simplify analysis and communicate results.', '== The process of data analysis ==\\n\\nAnalysis, refers to dividing a whole into its separate components for individual examination.', 'Analysis of extreme observations: outlying observations in the data are analyzed to see if they seem to disturb the distribution.', 'In a confirmatory analysis clear hypotheses about the data are tested.Exploratory data analysis should be interpreted carefully.', 'Facts by definition are irrefutable, meaning that any person involved in the analysis should be able to agree upon them.', 'Also, one should not follow up an exploratory analysis with a confirmatory analysis in the same dataset.', 'Also, one should not follow up an exploratory analysis with a confirmatory analysis in the same dataset.', 'The confirmatory analysis therefore will not be more informative than the original exploratory analysis.', 'The confirmatory analysis therefore will not be more informative than the original exploratory analysis.', '=== Data processing ===\\n\\nData, when initially obtained, must be processed or organized for analysis.', '=== Cognitive biases ===\\nThere are a variety of cognitive biases that can adversely affect analysis.', 'An exploratory analysis is used to find ideas for a theory, but not to test that theory as well.', 'Julia - A programming language well-suited for numerical analysis and computational science.', 'This requires extensive analysis of factual data and evidence to support their opinion.', 'In the case of outliers: should one use robust analysis techniques?', 'The users may have feedback, which results in additional analysis.', 'A histogram, a type of bar chart, may be used for this analysis.', 'Screening data prior to analysis.', 'Sensitivity analysis.'], 'confirmatory': ['When a model is found exploratory in a dataset, then following up that analysis with a confirmatory analysis in the same dataset could simply mean that the results of the confirmatory analysis are due to the same type 1 error that resulted in the exploratory model in the first place.', 'When a model is found exploratory in a dataset, then following up that analysis with a confirmatory analysis in the same dataset could simply mean that the results of the confirmatory analysis are due to the same type 1 error that resulted in the exploratory model in the first place.', 'There are two ways to assess measurement quality:\\n\\nConfirmatory factor analysis\\nAnalysis of homogeneity (internal consistency), which gives an indication of the reliability of a measurement instrument.', 'In statistical applications, data analysis can be divided into descriptive statistics, exploratory data analysis (EDA), and confirmatory data analysis (CDA).', '==== Exploratory and confirmatory approaches ====\\nIn the main analysis phase, either an exploratory or confirmatory approach can be adopted.', '==== Exploratory and confirmatory approaches ====\\nIn the main analysis phase, either an exploratory or confirmatory approach can be adopted.', 'In a confirmatory analysis clear hypotheses about the data are tested.Exploratory data analysis should be interpreted carefully.', 'Also, one should not follow up an exploratory analysis with a confirmatory analysis in the same dataset.', 'The confirmatory analysis therefore will not be more informative than the original exploratory analysis.'], 'charts': ['Tables are a valuable tool by enabling the ability of a user to query and focus on specific numbers; while charts (e.g., bar charts or line charts), may help explain the quantitative messages contained in the data.', 'Tables are a valuable tool by enabling the ability of a user to query and focus on specific numbers; while charts (e.g., bar charts or line charts), may help explain the quantitative messages contained in the data.', 'Tables are a valuable tool by enabling the ability of a user to query and focus on specific numbers; while charts (e.g., bar charts or line charts), may help explain the quantitative messages contained in the data.', 'Data visualization uses information displays (graphics such as, tables and charts) to help communicate key messages contained in the data.'], 'exploratory data': [], 'exploratory data analysis': ['In statistical applications, data analysis can be divided into descriptive statistics, exploratory data analysis (EDA), and confirmatory data analysis (CDA).', 'Analysts may apply a variety of techniques, referred to as exploratory data analysis, to begin understanding the messages contained within the obtained data.', 'In a confirmatory analysis clear hypotheses about the data are tested.Exploratory data analysis should be interpreted carefully.', '=== Exploratory data analysis ===\\nOnce the datasets are cleaned, they can then be analyzed.'], 'statistical modeling': [\"In today's business world, data analysis plays a role in making decisions more scientific and helping businesses operate more effectively.Data mining is a particular data analysis technique that focuses on statistical modeling and knowledge discovery for predictive rather than purely descriptive purposes, while business intelligence covers data analysis that relies heavily on aggregation, focusing mainly on business information.\"], 'phases': ['The process of data exploration may result in additional data cleaning or additional requests for data; thus, the initialization of the iterative phases mentioned in the lead paragraph of this section.', 'The phases are iterative, in that feedback from later phases may result in additional work in earlier phases.', 'The phases are iterative, in that feedback from later phases may result in additional work in earlier phases.', 'The phases are iterative, in that feedback from later phases may result in additional work in earlier phases.', '\"There are several phases that can be distinguished, described below.', '\"Chapter 14: Phases and initial steps in data analysis\".']}\n"
          ]
        }
      ],
      "source": [
        "from nltk.tokenize import sent_tokenize\n",
        "from flashtext import KeywordProcessor\n",
        "\n",
        "def tokenize_sentences(text):\n",
        "    sentences = [sent_tokenize(text)]\n",
        "    sentences = [y for x in sentences for y in x]\n",
        "    # Remove any short sentences less than 20 letters.\n",
        "    sentences = [sentence.strip() for sentence in sentences if len(sentence) > 20]\n",
        "    return sentences\n",
        "\n",
        "def get_sentences_for_keyword(keywords, sentences):\n",
        "    keyword_processor = KeywordProcessor()\n",
        "    keyword_sentences = {}\n",
        "    for word in keywords:\n",
        "        keyword_sentences[word] = []\n",
        "        keyword_processor.add_keyword(word)\n",
        "    for sentence in sentences:\n",
        "        keywords_found = keyword_processor.extract_keywords(sentence)\n",
        "        for key in keywords_found:\n",
        "            keyword_sentences[key].append(sentence)\n",
        "\n",
        "    for key in keyword_sentences.keys():\n",
        "        values = keyword_sentences[key]\n",
        "        values = sorted(values, key=len, reverse=True)\n",
        "        keyword_sentences[key] = values\n",
        "    return keyword_sentences\n",
        "\n",
        "sentences = tokenize_sentences(text)\n",
        "\n",
        "keyword_sentence_mapping = get_sentences_for_keyword(d, sentences)\n",
        "        \n",
        "print (keyword_sentence_mapping)"
      ]
    },
    {
      "cell_type": "code",
      "execution_count": 19,
      "id": "68bfbc34-be4f-4e01-9c57-48c8d477dc55",
      "metadata": {
        "colab": {
          "base_uri": "https://localhost:8080/"
        },
        "id": "68bfbc34-be4f-4e01-9c57-48c8d477dc55",
        "outputId": "1a1c8bc0-378f-4233-e4b3-eae4cd10657e"
      },
      "outputs": [
        {
          "output_type": "execute_result",
          "data": {
            "text/plain": [
              "dict_keys(['data analysis', 'data', 'diverse techniques', 'analysts', 'analysis phase', 'initial data analysis', 'exploratory', 'analysis', 'confirmatory', 'charts', 'exploratory data', 'exploratory data analysis', 'statistical modeling', 'phases'])"
            ]
          },
          "metadata": {},
          "execution_count": 19
        }
      ],
      "source": [
        "keyword_sentence_mapping.keys()"
      ]
    },
    {
      "cell_type": "code",
      "execution_count": 20,
      "id": "0uTJ9LHlFo9V",
      "metadata": {
        "id": "0uTJ9LHlFo9V"
      },
      "outputs": [],
      "source": [
        "sentence = keyword_sentence_mapping.values()"
      ]
    },
    {
      "cell_type": "code",
      "execution_count": 21,
      "id": "oS-kf444F4c7",
      "metadata": {
        "id": "oS-kf444F4c7"
      },
      "outputs": [],
      "source": [
        "my_list = [i for i in sentence]"
      ]
    },
    {
      "cell_type": "code",
      "execution_count": 22,
      "id": "7c070d8b",
      "metadata": {
        "id": "7c070d8b"
      },
      "outputs": [],
      "source": [
        "mylist = []\n",
        "for i in my_list:\n",
        "  for x in i :\n",
        "    mylist.append(x)"
      ]
    },
    {
      "cell_type": "code",
      "execution_count": 26,
      "id": "a8d64269",
      "metadata": {
        "id": "a8d64269"
      },
      "outputs": [],
      "source": [
        "# count_error = 0 \n",
        "# fin_list = []\n",
        "# for i in mylist:\n",
        "#   try :\n",
        "#     result = nlp(i)\n",
        "#     if len(nlp(i)) < 0:\n",
        "#       continue\n",
        "#     else:\n",
        "#       fin_list.append(result)\n",
        "#   except:\n",
        "#     count_error += 1"
      ]
    },
    {
      "cell_type": "code",
      "execution_count": 24,
      "id": "a507f189",
      "metadata": {
        "id": "a507f189"
      },
      "outputs": [],
      "source": [
        "import pandas as pd"
      ]
    },
    {
      "cell_type": "code",
      "execution_count": 26,
      "id": "903f7505",
      "metadata": {
        "id": "903f7505"
      },
      "outputs": [],
      "source": [
        "df = pd.DataFrame(mylist)"
      ]
    },
    {
      "cell_type": "code",
      "execution_count": 28,
      "id": "cb3f60a0",
      "metadata": {
        "colab": {
          "base_uri": "https://localhost:8080/",
          "height": 424
        },
        "id": "cb3f60a0",
        "outputId": "2229af52-3910-4cd6-a2c9-6dbf094da942"
      },
      "outputs": [
        {
          "output_type": "execute_result",
          "data": {
            "text/plain": [
              "                                                     0\n",
              "0    In today's business world, data analysis plays...\n",
              "1    In today's business world, data analysis plays...\n",
              "2    In today's business world, data analysis plays...\n",
              "3    Statistician John Tukey, defined data analysis...\n",
              "4    The different steps of the data analysis proce...\n",
              "..                                                 ...\n",
              "265  The phases are iterative, in that feedback fro...\n",
              "266  The phases are iterative, in that feedback fro...\n",
              "267  The phases are iterative, in that feedback fro...\n",
              "268  \"There are several phases that can be distingu...\n",
              "269  \"Chapter 14: Phases and initial steps in data ...\n",
              "\n",
              "[270 rows x 1 columns]"
            ],
            "text/html": [
              "\n",
              "  <div id=\"df-ce32dd72-b48b-45f6-87f3-dd9a53bf2fa3\">\n",
              "    <div class=\"colab-df-container\">\n",
              "      <div>\n",
              "<style scoped>\n",
              "    .dataframe tbody tr th:only-of-type {\n",
              "        vertical-align: middle;\n",
              "    }\n",
              "\n",
              "    .dataframe tbody tr th {\n",
              "        vertical-align: top;\n",
              "    }\n",
              "\n",
              "    .dataframe thead th {\n",
              "        text-align: right;\n",
              "    }\n",
              "</style>\n",
              "<table border=\"1\" class=\"dataframe\">\n",
              "  <thead>\n",
              "    <tr style=\"text-align: right;\">\n",
              "      <th></th>\n",
              "      <th>0</th>\n",
              "    </tr>\n",
              "  </thead>\n",
              "  <tbody>\n",
              "    <tr>\n",
              "      <th>0</th>\n",
              "      <td>In today's business world, data analysis plays...</td>\n",
              "    </tr>\n",
              "    <tr>\n",
              "      <th>1</th>\n",
              "      <td>In today's business world, data analysis plays...</td>\n",
              "    </tr>\n",
              "    <tr>\n",
              "      <th>2</th>\n",
              "      <td>In today's business world, data analysis plays...</td>\n",
              "    </tr>\n",
              "    <tr>\n",
              "      <th>3</th>\n",
              "      <td>Statistician John Tukey, defined data analysis...</td>\n",
              "    </tr>\n",
              "    <tr>\n",
              "      <th>4</th>\n",
              "      <td>The different steps of the data analysis proce...</td>\n",
              "    </tr>\n",
              "    <tr>\n",
              "      <th>...</th>\n",
              "      <td>...</td>\n",
              "    </tr>\n",
              "    <tr>\n",
              "      <th>265</th>\n",
              "      <td>The phases are iterative, in that feedback fro...</td>\n",
              "    </tr>\n",
              "    <tr>\n",
              "      <th>266</th>\n",
              "      <td>The phases are iterative, in that feedback fro...</td>\n",
              "    </tr>\n",
              "    <tr>\n",
              "      <th>267</th>\n",
              "      <td>The phases are iterative, in that feedback fro...</td>\n",
              "    </tr>\n",
              "    <tr>\n",
              "      <th>268</th>\n",
              "      <td>\"There are several phases that can be distingu...</td>\n",
              "    </tr>\n",
              "    <tr>\n",
              "      <th>269</th>\n",
              "      <td>\"Chapter 14: Phases and initial steps in data ...</td>\n",
              "    </tr>\n",
              "  </tbody>\n",
              "</table>\n",
              "<p>270 rows × 1 columns</p>\n",
              "</div>\n",
              "      <button class=\"colab-df-convert\" onclick=\"convertToInteractive('df-ce32dd72-b48b-45f6-87f3-dd9a53bf2fa3')\"\n",
              "              title=\"Convert this dataframe to an interactive table.\"\n",
              "              style=\"display:none;\">\n",
              "        \n",
              "  <svg xmlns=\"http://www.w3.org/2000/svg\" height=\"24px\"viewBox=\"0 0 24 24\"\n",
              "       width=\"24px\">\n",
              "    <path d=\"M0 0h24v24H0V0z\" fill=\"none\"/>\n",
              "    <path d=\"M18.56 5.44l.94 2.06.94-2.06 2.06-.94-2.06-.94-.94-2.06-.94 2.06-2.06.94zm-11 1L8.5 8.5l.94-2.06 2.06-.94-2.06-.94L8.5 2.5l-.94 2.06-2.06.94zm10 10l.94 2.06.94-2.06 2.06-.94-2.06-.94-.94-2.06-.94 2.06-2.06.94z\"/><path d=\"M17.41 7.96l-1.37-1.37c-.4-.4-.92-.59-1.43-.59-.52 0-1.04.2-1.43.59L10.3 9.45l-7.72 7.72c-.78.78-.78 2.05 0 2.83L4 21.41c.39.39.9.59 1.41.59.51 0 1.02-.2 1.41-.59l7.78-7.78 2.81-2.81c.8-.78.8-2.07 0-2.86zM5.41 20L4 18.59l7.72-7.72 1.47 1.35L5.41 20z\"/>\n",
              "  </svg>\n",
              "      </button>\n",
              "      \n",
              "  <style>\n",
              "    .colab-df-container {\n",
              "      display:flex;\n",
              "      flex-wrap:wrap;\n",
              "      gap: 12px;\n",
              "    }\n",
              "\n",
              "    .colab-df-convert {\n",
              "      background-color: #E8F0FE;\n",
              "      border: none;\n",
              "      border-radius: 50%;\n",
              "      cursor: pointer;\n",
              "      display: none;\n",
              "      fill: #1967D2;\n",
              "      height: 32px;\n",
              "      padding: 0 0 0 0;\n",
              "      width: 32px;\n",
              "    }\n",
              "\n",
              "    .colab-df-convert:hover {\n",
              "      background-color: #E2EBFA;\n",
              "      box-shadow: 0px 1px 2px rgba(60, 64, 67, 0.3), 0px 1px 3px 1px rgba(60, 64, 67, 0.15);\n",
              "      fill: #174EA6;\n",
              "    }\n",
              "\n",
              "    [theme=dark] .colab-df-convert {\n",
              "      background-color: #3B4455;\n",
              "      fill: #D2E3FC;\n",
              "    }\n",
              "\n",
              "    [theme=dark] .colab-df-convert:hover {\n",
              "      background-color: #434B5C;\n",
              "      box-shadow: 0px 1px 3px 1px rgba(0, 0, 0, 0.15);\n",
              "      filter: drop-shadow(0px 1px 2px rgba(0, 0, 0, 0.3));\n",
              "      fill: #FFFFFF;\n",
              "    }\n",
              "  </style>\n",
              "\n",
              "      <script>\n",
              "        const buttonEl =\n",
              "          document.querySelector('#df-ce32dd72-b48b-45f6-87f3-dd9a53bf2fa3 button.colab-df-convert');\n",
              "        buttonEl.style.display =\n",
              "          google.colab.kernel.accessAllowed ? 'block' : 'none';\n",
              "\n",
              "        async function convertToInteractive(key) {\n",
              "          const element = document.querySelector('#df-ce32dd72-b48b-45f6-87f3-dd9a53bf2fa3');\n",
              "          const dataTable =\n",
              "            await google.colab.kernel.invokeFunction('convertToInteractive',\n",
              "                                                     [key], {});\n",
              "          if (!dataTable) return;\n",
              "\n",
              "          const docLinkHtml = 'Like what you see? Visit the ' +\n",
              "            '<a target=\"_blank\" href=https://colab.research.google.com/notebooks/data_table.ipynb>data table notebook</a>'\n",
              "            + ' to learn more about interactive tables.';\n",
              "          element.innerHTML = '';\n",
              "          dataTable['output_type'] = 'display_data';\n",
              "          await google.colab.output.renderOutput(dataTable, element);\n",
              "          const docLink = document.createElement('div');\n",
              "          docLink.innerHTML = docLinkHtml;\n",
              "          element.appendChild(docLink);\n",
              "        }\n",
              "      </script>\n",
              "    </div>\n",
              "  </div>\n",
              "  "
            ]
          },
          "metadata": {},
          "execution_count": 28
        }
      ],
      "source": [
        "df"
      ]
    },
    {
      "cell_type": "code",
      "execution_count": 29,
      "id": "936594aa",
      "metadata": {
        "id": "936594aa"
      },
      "outputs": [],
      "source": [
        "df.to_csv('mapping.csv', index= False)"
      ]
    }
  ],
  "metadata": {
    "colab": {
      "provenance": []
    },
    "kernelspec": {
      "display_name": "Python 3 (ipykernel)",
      "language": "python",
      "name": "python3"
    },
    "language_info": {
      "codemirror_mode": {
        "name": "ipython",
        "version": 3
      },
      "file_extension": ".py",
      "mimetype": "text/x-python",
      "name": "python",
      "nbconvert_exporter": "python",
      "pygments_lexer": "ipython3",
      "version": "3.9.7"
    },
    "accelerator": "GPU",
    "gpuClass": "standard"
  },
  "nbformat": 4,
  "nbformat_minor": 5
}